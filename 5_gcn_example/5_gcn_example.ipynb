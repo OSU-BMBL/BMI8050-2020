{
 "cells": [
  {
   "cell_type": "markdown",
   "metadata": {},
   "source": [
    "# Chapter 5: Graph Convolutional Prediction of Protein Interactions in Yeast"
   ]
  },
  {
   "cell_type": "markdown",
   "metadata": {},
   "source": [
    "This tutorial is a modified from [Deep Learning for Network Biology](http://snap.stanford.edu/deepnetbio-ismb/), by Jure Leskovec, originally presented at ISMB conference in Chicago, IL, USA, on Friday, July 6th, 2018.\n"
   ]
  },
  {
   "cell_type": "markdown",
   "metadata": {},
   "source": [
    "## Outline "
   ]
  },
  {
   "cell_type": "markdown",
   "metadata": {},
   "source": [
    " 1. Load dataset (~10 mins)\n",
    " 2. Background\n",
    " 3. Specify the Architecture of our GCN Model\n",
    " 4. Train the GCN Model and Evaluate its Accuracy on a Test Set of Protein-Protein Interactions\n",
    " "
   ]
  },
  {
   "cell_type": "markdown",
   "metadata": {},
   "source": [
    "## 1. Load dataset (~10 mins)"
   ]
  },
  {
   "cell_type": "markdown",
   "metadata": {},
   "source": [
    "Before introducing the background, let's load the example data since it would tale about 10 mins."
   ]
  },
  {
   "cell_type": "markdown",
   "metadata": {},
   "source": [
    "#### First, we need to import some packages"
   ]
  },
  {
   "cell_type": "code",
   "execution_count": 1,
   "metadata": {},
   "outputs": [],
   "source": [
    "from __future__ import division\n",
    "from __future__ import print_function\n",
    "\n",
    "import time\n",
    "import matplotlib.pyplot as plt\n",
    "import numpy as np\n",
    "import scipy.sparse as sp\n",
    "\n",
    "'''make sure networkx is installed'''\n",
    "import networkx as nx\n",
    "\n",
    "'''We use tensforflow v1 in this example'''\n",
    "import tensorflow.compat.v1 as tf\n",
    "from sklearn.metrics import roc_auc_score\n",
    "from sklearn.metrics import average_precision_score"
   ]
  },
  {
   "cell_type": "markdown",
   "metadata": {},
   "source": [
    "#### Define some useful parameters for GCN model training"
   ]
  },
  {
   "cell_type": "code",
   "execution_count": 2,
   "metadata": {
    "scrolled": false
   },
   "outputs": [],
   "source": [
    "# Set random seed\n",
    "seed = 42\n",
    "np.random.seed(seed)\n",
    "tf.disable_eager_execution()\n",
    "# Settings\n"
   ]
  },
  {
   "cell_type": "markdown",
   "metadata": {},
   "source": [
    "## Various Utility Functions"
   ]
  },
  {
   "cell_type": "markdown",
   "metadata": {},
   "source": [
    "We define a couple utility functions for the following analysis."
   ]
  },
  {
   "cell_type": "code",
   "execution_count": 3,
   "metadata": {},
   "outputs": [],
   "source": [
    "\n",
    "def load_data():\n",
    "    g = nx.read_edgelist('./data/yeast.edgelist')\n",
    "    adj = nx.adjacency_matrix(g)\n",
    "    return adj\n",
    "\n",
    "def weight_variable_glorot(input_dim, output_dim, name=\"\"):\n",
    "    init_range = np.sqrt(6.0 / (input_dim + output_dim))\n",
    "    initial = tf.random_uniform(\n",
    "        [input_dim, output_dim], minval=-init_range,\n",
    "        maxval=init_range, dtype=tf.float32)\n",
    "    return tf.Variable(initial, name=name)\n",
    "\n",
    "\n",
    "def dropout_sparse(x, keep_prob, num_nonzero_elems):\n",
    "    noise_shape = [num_nonzero_elems]\n",
    "    random_tensor = keep_prob\n",
    "    random_tensor += tf.random_uniform(noise_shape)\n",
    "    dropout_mask = tf.cast(tf.floor(random_tensor), dtype=tf.bool)\n",
    "    pre_out = tf.sparse_retain(x, dropout_mask)\n",
    "    return pre_out * (1. / keep_prob)\n",
    "\n",
    "\n",
    "def sparse_to_tuple(sparse_mx):\n",
    "    if not sp.isspmatrix_coo(sparse_mx):\n",
    "        sparse_mx = sparse_mx.tocoo()\n",
    "    coords = np.vstack((sparse_mx.row, sparse_mx.col)).transpose()\n",
    "    values = sparse_mx.data\n",
    "    shape = sparse_mx.shape\n",
    "    return coords, values, shape\n",
    "\n",
    "\n",
    "def preprocess_graph(adj):\n",
    "    adj = sp.coo_matrix(adj)\n",
    "    adj_ = adj + sp.eye(adj.shape[0])\n",
    "    rowsum = np.array(adj_.sum(1))\n",
    "    degree_mat_inv_sqrt = sp.diags(np.power(rowsum, -0.5).flatten())\n",
    "    adj_normalized = adj_.dot(degree_mat_inv_sqrt).transpose().dot(degree_mat_inv_sqrt).tocoo()\n",
    "    return sparse_to_tuple(adj_normalized)\n",
    "\n",
    "\n",
    "def construct_feed_dict(adj_normalized, adj, features, placeholders):\n",
    "    feed_dict = dict()\n",
    "    feed_dict.update({placeholders['features']: features})\n",
    "    feed_dict.update({placeholders['adj']: adj_normalized})\n",
    "    feed_dict.update({placeholders['adj_orig']: adj})\n",
    "    return feed_dict\n",
    "\n",
    "\n",
    "def mask_test_edges(adj):\n",
    "    # Function to build test set with 2% positive links\n",
    "    # Remove diagonal elements\n",
    "    adj = adj - sp.dia_matrix((adj.diagonal()[np.newaxis, :], [0]), shape=adj.shape)\n",
    "    adj.eliminate_zeros()\n",
    "\n",
    "    adj_triu = sp.triu(adj)\n",
    "    adj_tuple = sparse_to_tuple(adj_triu)\n",
    "    edges = adj_tuple[0]\n",
    "    edges_all = sparse_to_tuple(adj)[0]\n",
    "    num_test = int(np.floor(edges.shape[0] / 50.))\n",
    "    num_val = int(np.floor(edges.shape[0] / 50.))\n",
    "\n",
    "    all_edge_idx = list(range(edges.shape[0]))\n",
    "    np.random.shuffle(all_edge_idx)\n",
    "    val_edge_idx = all_edge_idx[:num_val]\n",
    "    test_edge_idx = all_edge_idx[num_val:(num_val + num_test)]\n",
    "    test_edges = edges[test_edge_idx]\n",
    "    val_edges = edges[val_edge_idx]\n",
    "    train_edges = np.delete(edges, np.hstack([test_edge_idx, val_edge_idx]), axis=0)\n",
    "\n",
    "    def ismember(a, b):\n",
    "        rows_close = np.all((a - b[:, None]) == 0, axis=-1)\n",
    "        return np.any(rows_close)\n",
    "\n",
    "    test_edges_false = []\n",
    "    while len(test_edges_false) < len(test_edges):\n",
    "        n_rnd = len(test_edges) - len(test_edges_false)\n",
    "        rnd = np.random.randint(0, adj.shape[0], size=2 * n_rnd)\n",
    "        idxs_i = rnd[:n_rnd]                                        \n",
    "        idxs_j = rnd[n_rnd:]\n",
    "        for i in range(n_rnd):\n",
    "            idx_i = idxs_i[i]\n",
    "            idx_j = idxs_j[i]\n",
    "            if idx_i == idx_j:\n",
    "                continue\n",
    "            if ismember([idx_i, idx_j], edges_all):\n",
    "                continue\n",
    "            if test_edges_false:\n",
    "                if ismember([idx_j, idx_i], np.array(test_edges_false)):\n",
    "                    continue\n",
    "                if ismember([idx_i, idx_j], np.array(test_edges_false)):\n",
    "                    continue\n",
    "            test_edges_false.append([idx_i, idx_j])\n",
    "\n",
    "    val_edges_false = []\n",
    "    while len(val_edges_false) < len(val_edges):\n",
    "        n_rnd = len(val_edges) - len(val_edges_false)\n",
    "        rnd = np.random.randint(0, adj.shape[0], size=2 * n_rnd)\n",
    "        idxs_i = rnd[:n_rnd]                                        \n",
    "        idxs_j = rnd[n_rnd:]\n",
    "        for i in range(n_rnd):\n",
    "            idx_i = idxs_i[i]\n",
    "            idx_j = idxs_j[i]\n",
    "            if idx_i == idx_j:\n",
    "                continue\n",
    "            if ismember([idx_i, idx_j], train_edges):\n",
    "                continue\n",
    "            if ismember([idx_j, idx_i], train_edges):\n",
    "                continue\n",
    "            if ismember([idx_i, idx_j], val_edges):\n",
    "                continue\n",
    "            if ismember([idx_j, idx_i], val_edges):\n",
    "                continue\n",
    "            if val_edges_false:\n",
    "                if ismember([idx_j, idx_i], np.array(val_edges_false)):\n",
    "                    continue\n",
    "                if ismember([idx_i, idx_j], np.array(val_edges_false)):\n",
    "                    continue\n",
    "            val_edges_false.append([idx_i, idx_j])\n",
    "\n",
    "    # Re-build adj matrix\n",
    "    data = np.ones(train_edges.shape[0])\n",
    "    adj_train = sp.csr_matrix((data, (train_edges[:, 0], train_edges[:, 1])), shape=adj.shape)\n",
    "    adj_train = adj_train + adj_train.T\n",
    "\n",
    "    return adj_train, train_edges, val_edges, val_edges_false, test_edges, test_edges_false\n",
    "\n",
    "\n",
    "def get_roc_score(edges_pos, edges_neg):\n",
    "    feed_dict.update({placeholders['dropout']: 0})\n",
    "    emb = sess.run(model.embeddings, feed_dict=feed_dict)\n",
    "\n",
    "    def sigmoid(x):\n",
    "        return 1 / (1 + np.exp(-x))\n",
    "\n",
    "    # Predict on test set of edges\n",
    "    adj_rec = np.dot(emb, emb.T)\n",
    "    preds = []\n",
    "    pos = []\n",
    "    for e in edges_pos:\n",
    "        preds.append(sigmoid(adj_rec[e[0], e[1]]))\n",
    "        pos.append(adj_orig[e[0], e[1]])\n",
    "\n",
    "    preds_neg = []\n",
    "    neg = []\n",
    "    for e in edges_neg:\n",
    "        preds_neg.append(sigmoid(adj_rec[e[0], e[1]]))\n",
    "        neg.append(adj_orig[e[0], e[1]])\n",
    "\n",
    "    preds_all = np.hstack([preds, preds_neg])\n",
    "    labels_all = np.hstack([np.ones(len(preds)), np.zeros(len(preds))])\n",
    "    roc_score = roc_auc_score(labels_all, preds_all)\n",
    "    ap_score = average_precision_score(labels_all, preds_all)\n",
    "\n",
    "    return roc_score, ap_score"
   ]
  },
  {
   "cell_type": "markdown",
   "metadata": {},
   "source": [
    "#### Load example data (this chunk takes about 10 mins)"
   ]
  },
  {
   "cell_type": "code",
   "execution_count": 4,
   "metadata": {},
   "outputs": [],
   "source": [
    "adj = load_data()\n",
    "num_nodes = adj.shape[0]\n",
    "num_edges = adj.sum()\n",
    "# Featureless\n",
    "features = sparse_to_tuple(sp.identity(num_nodes))\n",
    "num_features = features[2][1]\n",
    "features_nonzero = features[1].shape[0]\n",
    "\n",
    "# Store original adjacency matrix (without diagonal entries) for later\n",
    "adj_orig = adj - sp.dia_matrix((adj.diagonal()[np.newaxis, :], [0]), shape=adj.shape)\n",
    "adj_orig.eliminate_zeros()\n",
    "\n",
    "adj_train, train_edges, val_edges, val_edges_false, test_edges, test_edges_false = mask_test_edges(adj)\n",
    "adj = adj_train\n",
    "adj_norm = preprocess_graph(adj)"
   ]
  },
  {
   "cell_type": "markdown",
   "metadata": {},
   "source": [
    "## 2. Background"
   ]
  },
  {
   "cell_type": "markdown",
   "metadata": {},
   "source": [
    "In this example, we demonstrate the utility of deep learning methods for an important prediction problem on biological graphs. In particular, we consider the problem of predicting [protein-protein interactions](https://en.wikipedia.org/wiki/Protein%E2%80%93protein_interaction) (PPIs). \n"
   ]
  },
  {
   "cell_type": "markdown",
   "metadata": {},
   "source": [
    "### 2.1 Why use computational methods to predict PPI?"
   ]
  },
  {
   "cell_type": "markdown",
   "metadata": {},
   "source": [
    "We represent the totality of PPIs that happen in a cell, an organism or a specific biological context with a [protein-protein interaction network](https://www.nature.com/subjects/protein-protein-interaction-networks). These networks are mathematical representations of all physical contacts between proteins in the cell. Protein-protein interactions (PPIs) are essential to almost every process in a cell. Understanding PPIs is crucial for understanding cell physiology in normal and disease states. \n",
    "\n",
    "\n",
    "The development of large-scale PPI screening techniques, especially [high-throughput affinity purification combined with mass-spectrometry](https://doi.org/10.1016/j.tibtech.2016.02.014) and the [yeast two-hybrid assay](https://en.wikipedia.org/wiki/Two-hybrid_screening), has caused an explosion in the amount of PPI data and the construction of ever more complex and complete interaction networks. However, current knowledge of protein-protein interaction networks is both [*incomplete* and *noisy*](https://doi.org/10.1016/j.cell.2014.10.050), as PPI screening techniques are limited in how many true interactions they can detect. Furthermore, PPI screening techniques often have high false positive and negative rates. These limitations present a great opportunity for computational methods to predict protein-protein interactions.  \n",
    "\n"
   ]
  },
  {
   "cell_type": "markdown",
   "metadata": {},
   "source": [
    "### 2.2 STRING (Search Tool for the Retrieval of Interacting Genes/Proteins)"
   ]
  },
  {
   "cell_type": "markdown",
   "metadata": {},
   "source": [
    "The STRING database collects score and integrate all publicly available sources of protein–protein interaction information, and to complement these with computational predictions. It achieves a comprehensive and objective global network, including direct (physical) as well as indirect (functional) interactions. The latest version of STRING (11.0) more than doubles the number of organisms it covers, to 5,090. It covers 24,584,628 proteins and 3,123,056,667 total interactions. The STRING resource is available online at https://string-db.org/."
   ]
  },
  {
   "cell_type": "markdown",
   "metadata": {},
   "source": [
    "![picture](https://raw.githubusercontent.com/Crystal-JJ/maize/master/data/1603054924565.jpg)"
   ]
  },
  {
   "cell_type": "markdown",
   "metadata": {},
   "source": [
    "In this demo, we take the yeast protein-protein interaction network ([download the preprocessed network](http://snap.stanford.edu/deepnetbio-ismb/ipynb/yeast.edgelist)) and use the network to build a model for predicting new protein-protein interactions. We formulate this prediction task as **a link prediction problem on unweighted and undirected networks** and use a graph convolutional neural network to solve the task."
   ]
  },
  {
   "cell_type": "markdown",
   "metadata": {},
   "source": [
    "### 2.3 Example data overview "
   ]
  },
  {
   "cell_type": "code",
   "execution_count": 5,
   "metadata": {
    "scrolled": false
   },
   "outputs": [
    {
     "name": "stdout",
     "output_type": "stream",
     "text": [
      "YLR418C\tYOL145C\n",
      "\n",
      "YOL145C\tYLR418C\n",
      "\n",
      "YLR418C\tYOR123C\n",
      "\n",
      "YOR123C\tYLR418C\n",
      "\n",
      "YLR418C\tYBR279W\n",
      "\n",
      "YBR279W\tYLR418C\n",
      "\n",
      "YLR418C\tYML069W\n",
      "\n",
      "YML069W\tYLR418C\n",
      "\n",
      "YLR418C\tYGL244W\n",
      "\n",
      "YGL244W\tYLR418C\n",
      "\n"
     ]
    }
   ],
   "source": [
    "f = open(\"./data/yeast.edgelist\", \"r\")\n",
    "for i in range(10):\n",
    "    print(f.readline())"
   ]
  },
  {
   "cell_type": "code",
   "execution_count": 6,
   "metadata": {},
   "outputs": [
    {
     "name": "stdout",
     "output_type": "stream",
     "text": [
      "``````````````````````````````````\n",
      "Total nodes:  6526\n",
      "Total edges:  1062675\n",
      "Adjacency matrix:  (6526, 6526)\n",
      "``````````````````````````````````\n",
      "Training edges:  (509277, 2)\n",
      "``````````````````````````````````\n",
      "Positive validation edges:  (10609, 2)\n",
      "Negative validation edges:  (10609, 2)\n",
      "``````````````````````````````````\n",
      "Positive testing edges:  (10609, 2)\n",
      "Negative testing edges:  (10609, 2)\n",
      "``````````````````````````````````\n"
     ]
    }
   ],
   "source": [
    "# Function to build test set with 2% positive links\n",
    "# Remove diagonal elements\n",
    "print(\"``````````````````````````````````\")\n",
    "print(\"Total nodes: \", num_nodes)\n",
    "print(\"Total edges: \", num_edges)\n",
    "print(\"Adjacency matrix: \", adj_orig.shape)\n",
    "print(\"``````````````````````````````````\")\n",
    "print(\"Training edges: \", train_edges.shape)\n",
    "print(\"``````````````````````````````````\")\n",
    "print(\"Positive validation edges: \", val_edges.shape)\n",
    "print(\"Negative validation edges: \", np.array(val_edges_false).shape)\n",
    "print(\"``````````````````````````````````\")\n",
    "print(\"Positive testing edges: \", test_edges.shape)\n",
    "print(\"Negative testing edges: \", np.array(test_edges_false).shape)\n",
    "print(\"``````````````````````````````````\")\n",
    "\n"
   ]
  },
  {
   "cell_type": "markdown",
   "metadata": {},
   "source": [
    "We will use the network to build a model for predicting new protein-protein interactions. We formulate this prediction task as **a link prediction problem on unweighted and undirected networks** and use a graph convolutional neural network to solve the task."
   ]
  },
  {
   "cell_type": "markdown",
   "metadata": {},
   "source": [
    "Note that link prediction is a standard prediction task in network biology, and thus this example can be easily extended and adapted to many other biomedical applications. "
   ]
  },
  {
   "cell_type": "markdown",
   "metadata": {},
   "source": [
    "![picture](https://raw.githubusercontent.com/Crystal-JJ/maize/master/data/1603057077487.jpg)"
   ]
  },
  {
   "cell_type": "markdown",
   "metadata": {},
   "source": [
    "### 2.4 The example model"
   ]
  },
  {
   "cell_type": "markdown",
   "metadata": {},
   "source": [
    "![picture](https://raw.githubusercontent.com/Crystal-JJ/maize/master/data/F80B107DFB375E91CDAA457EA43A84EC.png)"
   ]
  },
  {
   "cell_type": "markdown",
   "metadata": {},
   "source": [
    "In this demo, the GCN model contains a total of four layers, including the input layer, the first hidden layer, the second hidden layer, and the output layer.\n",
    "\n",
    "(1)Input layer: The data input in this layer is protein-protein interaction data, and the protein interaction data is used to construct a protein interaction network. Since we are using an undirected graph here, the data contains a total of two columns, the first column is protein 1, the second column is protein 2.\n",
    "\n",
    "(2)Hidden layer 1: The node's one-step interaction neighbors transfer information to the selected node. Find the one-step neighbors of the red node, that is, the blue nodes.\n",
    "\n",
    "(3)Hidden layer 2: The output of hidden layer one is the input of hidden layer two. The current node's one-step interaction neighbors transfer information to the current node. We are looking for the blue nodes one-step interaction neighbors, that is, yellow nodes.\n",
    "\n",
    "(4)Output layer: The output layer is a network. Compare the edges in the output network with the edges in the input network, and evaluate the performance of the model by counting which edges actually exist in the input network"
   ]
  },
  {
   "cell_type": "markdown",
   "metadata": {},
   "source": [
    "### 2.5 Graph Convolutional Neural Network (GCN)"
   ]
  },
  {
   "cell_type": "markdown",
   "metadata": {},
   "source": [
    "In what follows, we give a complete [Tensorflow](https://www.tensorflow.org/) implementation of a two-layer graph convolutional neural network (GCN) for link prediction. We closely follow the GCN formulation as presented in [Kipf et al., ICLR 2017](https://arxiv.org/pdf/1609.02907.pdf)."
   ]
  },
  {
   "cell_type": "markdown",
   "metadata": {},
   "source": [
    "#### Define Convolutional Layers for our GCN Model"
   ]
  },
  {
   "cell_type": "code",
   "execution_count": 7,
   "metadata": {},
   "outputs": [],
   "source": [
    "class GraphConvolution():\n",
    "    \"\"\"Basic graph convolution layer for undirected graph without edge labels.\"\"\"\n",
    "    def __init__(self, input_dim, output_dim, adj, name, dropout, activate=tf.nn.relu):\n",
    "        self.name = name\n",
    "        self.vars = {}\n",
    "        self.issparse = False\n",
    "        with tf.variable_scope(self.name + '_vars'):\n",
    "            '''Create a weight variable with Glorot & Bengio'''\n",
    "            self.vars['weights'] = weight_variable_glorot(input_dim, output_dim, name='weights')\n",
    "        self.dropout = dropout\n",
    "        self.adj = adj\n",
    "        self.activate = activate\n",
    "\n",
    "    def __call__(self, inputs):\n",
    "        with tf.name_scope(self.name):        \n",
    "            x = inputs\n",
    "            '''In tensorflow v1, the second argument represents the percentage to keep original values'''\n",
    "            x = tf.nn.dropout(x, 1-self.dropout)\n",
    "            x = tf.matmul(x, self.vars['weights'])\n",
    "            x = tf.sparse_tensor_dense_matmul(self.adj, x)\n",
    "            outputs = self.activate(x)\n",
    "        return outputs\n",
    "\n",
    "\n",
    "class GraphConvolutionSparse():\n",
    "    \"\"\"Graph convolution layer for sparse inputs.\"\"\"\n",
    "    def __init__(self, input_dim, output_dim, adj, features_nonzero, name, dropout, activate=tf.nn.relu):\n",
    "        self.name = name\n",
    "        self.vars = {}\n",
    "        self.issparse = False\n",
    "        with tf.variable_scope(self.name + '_vars'):\n",
    "            self.vars['weights'] = weight_variable_glorot(input_dim, output_dim, name='weights')\n",
    "        self.dropout = dropout\n",
    "        self.adj = adj\n",
    "        self.activate = activate\n",
    "        self.issparse = True\n",
    "        self.features_nonzero = features_nonzero\n",
    "\n",
    "    def __call__(self, inputs):\n",
    "        with tf.name_scope(self.name):\n",
    "            x = inputs\n",
    "            x = dropout_sparse(x, 1-self.dropout, self.features_nonzero)\n",
    "            x = tf.sparse_tensor_dense_matmul(x, self.vars['weights'])\n",
    "            x = tf.sparse_tensor_dense_matmul(self.adj, x)\n",
    "            outputs = self.activate(x)\n",
    "        return outputs\n",
    "    \n",
    "    \n",
    "class InnerProductDecoder():\n",
    "    \"\"\"Decoder model layer for link prediction.\"\"\"\n",
    "    def __init__(self, input_dim, name, dropout, activate=tf.nn.sigmoid):\n",
    "        self.name = name\n",
    "        self.issparse = False\n",
    "        self.dropout = dropout\n",
    "        self.activate = activate\n",
    "\n",
    "    def __call__(self, inputs):\n",
    "        with tf.name_scope(self.name):\n",
    "            inputs = tf.nn.dropout(inputs, 1-self.dropout)\n",
    "            x = tf.transpose(inputs)\n",
    "            x = tf.matmul(inputs, x)\n",
    "            x = tf.reshape(x, [-1])\n",
    "            outputs = self.activate(x)\n",
    "        return outputs"
   ]
  },
  {
   "cell_type": "markdown",
   "metadata": {},
   "source": [
    "## 3. Specify the Architecture of our GCN Model"
   ]
  },
  {
   "cell_type": "markdown",
   "metadata": {},
   "source": [
    "Next, we choose a simple GCN, which is commonly used in deep learning for relationships betwwen proteins. For our yeast PPI network, the GCN model contains a total of four layers, including the input layer, the first hidden layer, the second hidden layer, and the output layer."
   ]
  },
  {
   "cell_type": "code",
   "execution_count": 8,
   "metadata": {},
   "outputs": [],
   "source": [
    "class GCNModel():\n",
    "    def __init__(self, placeholders, num_features, features_nonzero, name):\n",
    "        self.name = name\n",
    "        self.inputs = placeholders['features']\n",
    "        self.input_dim = num_features\n",
    "        self.features_nonzero = features_nonzero\n",
    "        self.adj = placeholders['adj']\n",
    "        self.dropout = placeholders['dropout']\n",
    "        with tf.variable_scope(self.name):\n",
    "            self.build()\n",
    "        \n",
    "    def build(self):\n",
    "        self.hidden1 = GraphConvolutionSparse(\n",
    "            name='gcn_sparse_layer',\n",
    "            input_dim=self.input_dim,\n",
    "            output_dim=HIDDEN1,\n",
    "            adj=self.adj,\n",
    "            features_nonzero=self.features_nonzero,\n",
    "            activate=tf.nn.relu,\n",
    "            dropout=self.dropout)(self.inputs)\n",
    "        \n",
    "        self.embeddings = GraphConvolution(\n",
    "            name='gcn_dense_layer',\n",
    "            input_dim=HIDDEN1,\n",
    "            output_dim=HIDDEN2,\n",
    "            adj=self.adj,\n",
    "            activate=lambda x: x,\n",
    "            dropout=self.dropout)(self.hidden1)\n",
    "\n",
    "        self.reconstructions = InnerProductDecoder(\n",
    "            name='gcn_decoder',\n",
    "            dropout = self.dropout,\n",
    "            input_dim=HIDDEN2, \n",
    "            activate=lambda x: x)(self.embeddings)\n"
   ]
  },
  {
   "cell_type": "markdown",
   "metadata": {},
   "source": [
    "## Specify the GCN Optimizer"
   ]
  },
  {
   "cell_type": "code",
   "execution_count": 9,
   "metadata": {},
   "outputs": [],
   "source": [
    "class Optimizer():\n",
    "    def __init__(self, preds, labels, num_nodes, num_edges):\n",
    "        pos_weight = float(num_nodes**2 - num_edges) / num_edges\n",
    "        norm = num_nodes**2 / float((num_nodes**2 - num_edges) * 2)\n",
    "        \n",
    "        preds_sub = preds\n",
    "        labels_sub = labels\n",
    "\n",
    "        self.cost = norm * tf.reduce_mean(\n",
    "            tf.nn.weighted_cross_entropy_with_logits(\n",
    "                logits=preds_sub, targets=labels_sub, pos_weight=pos_weight))\n",
    "        self.optimizer = tf.train.AdamOptimizer(learning_rate=LEARNING_RATE)  # Adam Optimizer\n",
    "        #self.optimizer = tf.train.AdamOptimizer(learning_rate=0.01)\n",
    "\n",
    "        self.opt_op = self.optimizer.minimize(self.cost)\n",
    "        self.grads_vars = self.optimizer.compute_gradients(self.cost)"
   ]
  },
  {
   "cell_type": "markdown",
   "metadata": {},
   "source": [
    "## 4. Train the GCN Model and Evaluate its Accuracy on a Test Set of Protein-Protein Interactions"
   ]
  },
  {
   "cell_type": "markdown",
   "metadata": {},
   "source": [
    "Given a training set of protein-protein interactions in yeast *S. cerevisiae*, our goal is to take these interactions and train a GCN model that can predict new protein-protein interactions. That is, we would like to predict new edges in the yeast protein interaction network. \n"
   ]
  },
  {
   "cell_type": "code",
   "execution_count": 10,
   "metadata": {},
   "outputs": [],
   "source": [
    "# Define hyperparameters\n",
    "'''Initial learning rate.'''\n",
    "\n",
    "LEARNING_RATE = 0.01\n",
    "'''Number of epochs to train.'''\n",
    "EPOCHS= 50\n",
    "'''Number of units in hidden layer 1.'''\n",
    "HIDDEN1 = 32\n",
    "'''Number of units in hidden layer 2.'''\n",
    "HIDDEN2 = 16\n",
    "'''Dropout rate.'''\n",
    "DROPOUT = 0.1\n"
   ]
  },
  {
   "cell_type": "code",
   "execution_count": 11,
   "metadata": {
    "scrolled": true
   },
   "outputs": [
    {
     "name": "stdout",
     "output_type": "stream",
     "text": [
      "WARNING:tensorflow:From C:\\Users\\flyku\\AppData\\Roaming\\Python\\Python37\\site-packages\\tensorflow\\python\\ops\\resource_variable_ops.py:1666: calling BaseResourceVariable.__init__ (from tensorflow.python.ops.resource_variable_ops) with constraint is deprecated and will be removed in a future version.\n",
      "Instructions for updating:\n",
      "If using Keras pass *_constraint arguments to layers.\n",
      "WARNING:tensorflow:From <ipython-input-7-cf22d19aae3a>:18: calling dropout (from tensorflow.python.ops.nn_ops) with keep_prob is deprecated and will be removed in a future version.\n",
      "Instructions for updating:\n",
      "Please use `rate` instead of `keep_prob`. Rate should be set to `rate = 1 - keep_prob`.\n",
      "WARNING:tensorflow:From <ipython-input-9-9cdedc0467b6>:11: calling weighted_cross_entropy_with_logits (from tensorflow.python.ops.nn_impl) with targets is deprecated and will be removed in a future version.\n",
      "Instructions for updating:\n",
      "targets is deprecated, use labels instead\n"
     ]
    }
   ],
   "source": [
    "# Define placeholders\n",
    "placeholders = {\n",
    "    'features': tf.sparse_placeholder(tf.float32),\n",
    "    'adj': tf.sparse_placeholder(tf.float32),\n",
    "    'adj_orig': tf.sparse_placeholder(tf.float32),\n",
    "    'dropout': tf.placeholder_with_default(0.0, shape=())\n",
    "}\n",
    "\n",
    "\n",
    "# Pay attention to the factors that the placeholders have\n",
    "model = GCNModel(placeholders, num_features, features_nonzero, name='yeast_gcn')\n",
    "\n",
    "# Create optimizer\n",
    "with tf.name_scope('optimizer'):\n",
    "    opt = Optimizer(\n",
    "        preds=model.reconstructions,\n",
    "        labels=tf.reshape(tf.sparse_tensor_to_dense(placeholders['adj_orig'], validate_indices=False), [-1]),\n",
    "        num_nodes=num_nodes,\n",
    "        num_edges=num_edges)"
   ]
  },
  {
   "cell_type": "code",
   "execution_count": 12,
   "metadata": {
    "scrolled": true
   },
   "outputs": [
    {
     "name": "stdout",
     "output_type": "stream",
     "text": [
      "Epoch: 0001 train_loss= 0.68120 validation_roc= 0.81257 validation_ap= 0.77024 time= 1.42211\n",
      "Epoch: 0002 train_loss= 0.68119 validation_roc= 0.86665 validation_ap= 0.85741 time= 1.35805\n",
      "Epoch: 0003 train_loss= 0.68114 validation_roc= 0.87656 validation_ap= 0.86656 time= 1.33108\n",
      "Epoch: 0004 train_loss= 0.68079 validation_roc= 0.87750 validation_ap= 0.86722 time= 1.30004\n",
      "Epoch: 0005 train_loss= 0.67966 validation_roc= 0.87752 validation_ap= 0.86726 time= 1.33708\n",
      "Epoch: 0006 train_loss= 0.67738 validation_roc= 0.87753 validation_ap= 0.86727 time= 1.31400\n",
      "Epoch: 0007 train_loss= 0.67292 validation_roc= 0.87754 validation_ap= 0.86727 time= 1.30100\n",
      "Epoch: 0008 train_loss= 0.66601 validation_roc= 0.87753 validation_ap= 0.86726 time= 1.31900\n",
      "Epoch: 0009 train_loss= 0.65643 validation_roc= 0.87752 validation_ap= 0.86725 time= 1.31800\n",
      "Epoch: 0010 train_loss= 0.64347 validation_roc= 0.87752 validation_ap= 0.86725 time= 1.34200\n",
      "Epoch: 0011 train_loss= 0.62865 validation_roc= 0.87751 validation_ap= 0.86724 time= 1.31900\n",
      "Epoch: 0012 train_loss= 0.61780 validation_roc= 0.87750 validation_ap= 0.86724 time= 1.34700\n",
      "Epoch: 0013 train_loss= 0.61474 validation_roc= 0.87748 validation_ap= 0.86724 time= 1.31600\n",
      "Epoch: 0014 train_loss= 0.62482 validation_roc= 0.87745 validation_ap= 0.86725 time= 1.33200\n",
      "Epoch: 0015 train_loss= 0.62810 validation_roc= 0.87741 validation_ap= 0.86725 time= 1.34900\n",
      "Epoch: 0016 train_loss= 0.62722 validation_roc= 0.87735 validation_ap= 0.86725 time= 1.36000\n",
      "Epoch: 0017 train_loss= 0.61768 validation_roc= 0.87726 validation_ap= 0.86724 time= 1.33300\n",
      "Epoch: 0018 train_loss= 0.61338 validation_roc= 0.87716 validation_ap= 0.86721 time= 1.31700\n",
      "Epoch: 0019 train_loss= 0.61116 validation_roc= 0.87700 validation_ap= 0.86716 time= 1.34900\n",
      "Epoch: 0020 train_loss= 0.61203 validation_roc= 0.87687 validation_ap= 0.86711 time= 1.29600\n",
      "Epoch: 0021 train_loss= 0.61284 validation_roc= 0.87675 validation_ap= 0.86706 time= 1.34400\n",
      "Epoch: 0022 train_loss= 0.61434 validation_roc= 0.87663 validation_ap= 0.86700 time= 1.34300\n",
      "Epoch: 0023 train_loss= 0.61425 validation_roc= 0.87651 validation_ap= 0.86695 time= 1.33000\n",
      "Epoch: 0024 train_loss= 0.61250 validation_roc= 0.87638 validation_ap= 0.86688 time= 1.33100\n",
      "Epoch: 0025 train_loss= 0.61093 validation_roc= 0.87626 validation_ap= 0.86681 time= 1.36900\n",
      "Epoch: 0026 train_loss= 0.60739 validation_roc= 0.87614 validation_ap= 0.86673 time= 1.35200\n",
      "Epoch: 0027 train_loss= 0.60491 validation_roc= 0.87599 validation_ap= 0.86662 time= 1.36300\n",
      "Epoch: 0028 train_loss= 0.60336 validation_roc= 0.87579 validation_ap= 0.86649 time= 1.31400\n",
      "Epoch: 0029 train_loss= 0.60326 validation_roc= 0.87552 validation_ap= 0.86629 time= 1.32200\n",
      "Epoch: 0030 train_loss= 0.60247 validation_roc= 0.87514 validation_ap= 0.86600 time= 1.35100\n",
      "Epoch: 0031 train_loss= 0.60073 validation_roc= 0.87457 validation_ap= 0.86553 time= 1.32400\n",
      "Epoch: 0032 train_loss= 0.59857 validation_roc= 0.87371 validation_ap= 0.86474 time= 1.33200\n",
      "Epoch: 0033 train_loss= 0.59714 validation_roc= 0.87260 validation_ap= 0.86368 time= 1.33400\n",
      "Epoch: 0034 train_loss= 0.59588 validation_roc= 0.87134 validation_ap= 0.86247 time= 1.33200\n",
      "Epoch: 0035 train_loss= 0.59427 validation_roc= 0.87014 validation_ap= 0.86139 time= 1.31800\n",
      "Epoch: 0036 train_loss= 0.59410 validation_roc= 0.86923 validation_ap= 0.86059 time= 1.33900\n",
      "Epoch: 0037 train_loss= 0.59103 validation_roc= 0.86831 validation_ap= 0.85981 time= 1.35700\n",
      "Epoch: 0038 train_loss= 0.58945 validation_roc= 0.86723 validation_ap= 0.85885 time= 1.33200\n",
      "Epoch: 0039 train_loss= 0.58817 validation_roc= 0.86582 validation_ap= 0.85753 time= 1.33000\n",
      "Epoch: 0040 train_loss= 0.58623 validation_roc= 0.86386 validation_ap= 0.85546 time= 1.32100\n",
      "Epoch: 0041 train_loss= 0.58493 validation_roc= 0.86121 validation_ap= 0.85266 time= 1.33500\n",
      "Epoch: 0042 train_loss= 0.58373 validation_roc= 0.85882 validation_ap= 0.85016 time= 1.44800\n",
      "Epoch: 0043 train_loss= 0.58160 validation_roc= 0.85712 validation_ap= 0.84846 time= 1.32500\n",
      "Epoch: 0044 train_loss= 0.58099 validation_roc= 0.85644 validation_ap= 0.84792 time= 1.32700\n",
      "Epoch: 0045 train_loss= 0.57988 validation_roc= 0.85542 validation_ap= 0.84700 time= 1.34500\n",
      "Epoch: 0046 train_loss= 0.57938 validation_roc= 0.85318 validation_ap= 0.84468 time= 1.32800\n",
      "Epoch: 0047 train_loss= 0.57850 validation_roc= 0.84987 validation_ap= 0.84113 time= 1.39000\n",
      "Epoch: 0048 train_loss= 0.57734 validation_roc= 0.84751 validation_ap= 0.83875 time= 1.32900\n",
      "Epoch: 0049 train_loss= 0.57660 validation_roc= 0.84694 validation_ap= 0.83852 time= 1.30000\n",
      "Epoch: 0050 train_loss= 0.57567 validation_roc= 0.84563 validation_ap= 0.83748 time= 1.34600\n",
      "Optimization Finished!\n",
      "Test ROC score: 0.84584\n",
      "Test AP score: 0.83836\n"
     ]
    }
   ],
   "source": [
    "# Initialize session\n",
    "sess = tf.Session()\n",
    "sess.run(tf.global_variables_initializer())\n",
    "\n",
    "adj_label = adj_train + sp.eye(adj_train.shape[0])\n",
    "adj_label = sparse_to_tuple(adj_label)\n",
    "\n",
    "losses, roc, ap = [], [], []\n",
    "# Train model\n",
    "for epoch in range(EPOCHS):\n",
    "    t = time.time()\n",
    "    # Construct feed dictionary\n",
    "    feed_dict = construct_feed_dict(adj_norm, adj_label, features, placeholders)\n",
    "    feed_dict.update({placeholders['dropout']: DROPOUT})\n",
    "    # One update of parameter matrices\n",
    "    _, avg_cost = sess.run([opt.opt_op, opt.cost], feed_dict=feed_dict)\n",
    "\n",
    "    roc_curr, ap_curr = get_roc_score(val_edges, val_edges_false)\n",
    "    roc.append(roc_curr)\n",
    "    ap.append(ap_curr)\n",
    "    losses.append(avg_cost)\n",
    "    print(\"Epoch:\", '%04d' % (epoch + 1), \n",
    "          \"train_loss=\", \"{:.5f}\".format(avg_cost),\n",
    "          \"validation_roc=\", \"{:.5f}\".format(roc_curr),\n",
    "          \"validation_ap=\", \"{:.5f}\".format(ap_curr),\n",
    "          \"time=\", \"{:.5f}\".format(time.time() - t))\n",
    "\n",
    "print('Optimization Finished!')\n",
    "\n",
    "roc_score, ap_score = get_roc_score(test_edges, test_edges_false)\n",
    "\n",
    "print('Test ROC score: {:.5f}'.format(roc_score))\n",
    "print('Test AP score: {:.5f}'.format(ap_score))"
   ]
  },
  {
   "cell_type": "markdown",
   "metadata": {},
   "source": [
    "#### Visualize loss and ROC"
   ]
  },
  {
   "cell_type": "code",
   "execution_count": 13,
   "metadata": {
    "scrolled": false
   },
   "outputs": [
    {
     "data": {
      "image/png": "[encoded data removed]",
      "text/plain": [
       "<Figure size 432x288 with 1 Axes>"
      ]
     },
     "metadata": {
      "needs_background": "light"
     },
     "output_type": "display_data"
    }
   ],
   "source": [
    "plt.figure()\n",
    "plt.plot(losses)\n",
    "plt.title('Training loss')\n",
    "plt.ylabel('loss')\n",
    "plt.xlabel('epoch')\n",
    "plt.legend(['loss'])\n",
    "plt.show()"
   ]
  },
  {
   "cell_type": "code",
   "execution_count": 14,
   "metadata": {
    "scrolled": true
   },
   "outputs": [
    {
     "data": {
      "image/png": "[encoded data removed]",
      "text/plain": [
       "<Figure size 432x288 with 1 Axes>"
      ]
     },
     "metadata": {
      "needs_background": "light"
     },
     "output_type": "display_data"
    }
   ],
   "source": [
    "plt.figure()\n",
    "plt.plot(roc)\n",
    "plt.plot(ap)\n",
    "plt.title('Model ROC')\n",
    "plt.ylabel('loss')\n",
    "plt.xlabel('epoch')\n",
    "plt.legend(['roc','ap'])\n",
    "plt.show()"
   ]
  },
  {
   "cell_type": "code",
   "execution_count": null,
   "metadata": {},
   "outputs": [],
   "source": []
  },
  {
   "cell_type": "code",
   "execution_count": null,
   "metadata": {},
   "outputs": [],
   "source": []
  },
  {
   "cell_type": "code",
   "execution_count": null,
   "metadata": {},
   "outputs": [],
   "source": []
  }
 ],
 "metadata": {
  "kernelspec": {
   "display_name": "dl",
   "language": "python",
   "name": "dl"
  },
  "language_info": {
   "codemirror_mode": {
    "name": "ipython",
    "version": 3
   },
   "file_extension": ".py",
   "mimetype": "text/x-python",
   "name": "python",
   "nbconvert_exporter": "python",
   "pygments_lexer": "ipython3",
   "version": "3.7.9"
  }
 },
 "nbformat": 4,
 "nbformat_minor": 2
}

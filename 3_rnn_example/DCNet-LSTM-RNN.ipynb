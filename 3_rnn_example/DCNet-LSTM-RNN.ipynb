{
 "cells": [
  {
   "cell_type": "markdown",
   "metadata": {},
   "source": [
    "# DCNet - A simple LSTM-RNN for generating sequence consensus"
   ]
  },
  {
   "cell_type": "markdown",
   "metadata": {},
   "source": [
    "First, we need some boilerplate code to load the PyTorch and other modules "
   ]
  },
  {
   "cell_type": "code",
   "execution_count": 1,
   "metadata": {},
   "outputs": [
    {
     "data": {
      "text/plain": [
       "<torch._C.Generator at 0x16076369130>"
      ]
     },
     "execution_count": 1,
     "metadata": {},
     "output_type": "execute_result"
    }
   ],
   "source": [
    "import torch\n",
    "import torch.autograd as autograd\n",
    "import torch.nn as nn\n",
    "import torch.nn.functional as F\n",
    "import torch.optim as optim\n",
    "from torch.autograd import Variable\n",
    "\n",
    "torch.manual_seed(42)"
   ]
  },
  {
   "cell_type": "code",
   "execution_count": 2,
   "metadata": {},
   "outputs": [],
   "source": [
    "from matplotlib import pyplot as plt\n",
    "%matplotlib inline"
   ]
  },
  {
   "cell_type": "markdown",
   "metadata": {},
   "source": [
    "Here we define the simple DCNet class as subclass of `torch.nn.Module`."
   ]
  },
  {
   "cell_type": "code",
   "execution_count": 3,
   "metadata": {},
   "outputs": [],
   "source": [
    "class DCNet(nn.Module):\n",
    "\n",
    "    def __init__(self, hidden_dim, layer1_dim, layer2_dim):\n",
    "        super(DCNet, self).__init__()\n",
    "        self.hidden_dim = hidden_dim\n",
    "\n",
    "        self.lstm = nn.LSTM(4, hidden_dim) \n",
    "        self.linear1 = nn.Linear(hidden_dim, layer1_dim)\n",
    "        self.relu1 = nn.ReLU()\n",
    "        self.linear2 = nn.Linear(layer1_dim, layer2_dim)\n",
    "        self.relu2 = nn.ReLU()\n",
    "        self.linear3 = nn.Linear(layer2_dim, 4)\n",
    "        self.hidden_init_values = None\n",
    "        self.hidden = self.init_hidden()\n",
    "        nn.init.xavier_uniform(self.linear1.weight)\n",
    "        nn.init.xavier_uniform(self.linear2.weight)\n",
    "        nn.init.xavier_uniform(self.linear3.weight)\n",
    "        \n",
    "    def init_hidden(self):\n",
    "        if self.hidden_init_values == None:\n",
    "            self.hidden_init_values = (autograd.Variable(torch.randn(1, 1, self.hidden_dim)),\n",
    "                                       autograd.Variable(torch.randn(1, 1, self.hidden_dim)))\n",
    "        return self.hidden_init_values\n",
    "\n",
    "    def forward(self, seq):\n",
    "        lstm_out, self.hidden = self.lstm(\n",
    "            seq.view(len(seq), 1, -1), self.hidden)\n",
    "        tmp1 = self.relu1(self.linear1(lstm_out.view(len(seq), -1)))\n",
    "        tmp2 = self.relu2(self.linear2(tmp1))\n",
    "        _out = self.linear3(tmp2)\n",
    "        base_out = _out\n",
    "        return base_out\n"
   ]
  },
  {
   "cell_type": "markdown",
   "metadata": {},
   "source": [
    "We define a couple utility functions for encoding DNA bases to vectors and simulate sequencing errors."
   ]
  },
  {
   "cell_type": "code",
   "execution_count": 4,
   "metadata": {},
   "outputs": [
    {
     "name": "stdout",
     "output_type": "stream",
     "text": [
      "one-hot encoding for DNA bases\n",
      "A: [[1, 0, 0, 0]]\n",
      "C: [[0, 1, 0, 0]]\n",
      "G: [[0, 0, 1, 0]]\n",
      "T: [[0, 0, 0, 1]]\n"
     ]
    }
   ],
   "source": [
    "import random\n",
    "torch.set_default_tensor_type('torch.cuda.FloatTensor')\n",
    "\n",
    "bmap = {\"A\":0, \"C\":1, \"G\":2, \"T\":3}\n",
    "def one_hot(b):\n",
    "    t = [[0,0,0,0]]\n",
    "    i = bmap[b]\n",
    "    t[0][i] = 1\n",
    "    return t\n",
    "\n",
    "print(\"one-hot encoding for DNA bases\")\n",
    "print(\"A:\", one_hot(\"A\"))\n",
    "print(\"C:\", one_hot(\"C\"))\n",
    "print(\"G:\", one_hot(\"G\"))\n",
    "print(\"T:\", one_hot(\"T\"))\n"
   ]
  },
  {
   "cell_type": "code",
   "execution_count": 5,
   "metadata": {},
   "outputs": [],
   "source": [
    "def sim_error(seq, pi=0.05, pd=0.05, ps=0.01):\n",
    "    \"\"\"\n",
    "    Given an input sequence `seq`, generating another\n",
    "    sequence with errors. \n",
    "    pi: insertion error rate\n",
    "    pd: deletion error rate\n",
    "    ps: substitution error rate\n",
    "    \"\"\"\n",
    "    out_seq = []\n",
    "    for c in seq:\n",
    "        while 1:\n",
    "            r = random.uniform(0,1)\n",
    "            if r < pi:\n",
    "                out_seq.append(random.choice([\"A\",\"C\",\"G\",\"T\"]))\n",
    "            else:\n",
    "                break\n",
    "        r -= pi\n",
    "        if r < pd:\n",
    "            continue\n",
    "        r -= pd\n",
    "        if r < ps:\n",
    "            out_seq.append(random.choice([\"A\",\"C\",\"G\",\"T\"]))\n",
    "            continue\n",
    "        out_seq.append(c)\n",
    "    return \"\".join(out_seq)"
   ]
  },
  {
   "cell_type": "markdown",
   "metadata": {},
   "source": [
    "Generate a random sequence of length 220 as our original teamplate sequences."
   ]
  },
  {
   "cell_type": "code",
   "execution_count": 6,
   "metadata": {},
   "outputs": [
    {
     "name": "stdout",
     "output_type": "stream",
     "text": [
      "AACAAGCTCATAATTGCTTATTGAAAATTCGTCGCCGCCATAGTCGCCCAATTCGAACTCTGAAGGCGAGCAATAGTGCACTCGATAATACTCCGCTTTACATACCCAGTTTTCCACTCCTAAAATTCTGATTCTCTATCAGGCGATGCGAATTTGTGCGACAATCTTGTTCGGAGAAACTATCTGCGGCACGTTAAGTTATCCAAGTGTCGAGGCAGCA\n"
     ]
    }
   ],
   "source": [
    "seq = [random.choice([\"A\",\"C\",\"G\",\"T\"]) for _ in range(220)]\n",
    "print(\"\".join(seq))\n",
    "# convert the `seq` to a PyTorch tensor"
   ]
  },
  {
   "cell_type": "code",
   "execution_count": 7,
   "metadata": {},
   "outputs": [],
   "source": [
    "seq_t = Variable(torch.FloatTensor([one_hot(c) for c in seq])).cuda()"
   ]
  },
  {
   "cell_type": "markdown",
   "metadata": {},
   "source": [
    "Simulate 20 erroneous sequences with insertion error at 5%, deletion errors at 5% and subsitution error at 1%."
   ]
  },
  {
   "cell_type": "code",
   "execution_count": 8,
   "metadata": {},
   "outputs": [],
   "source": [
    "seqs = [sim_error(seq, pi=0.05, pd=0.05, ps=0.01) for _ in range(20)]\n",
    "seqs_t = [Variable(torch.FloatTensor([one_hot(c) for c in s])).cuda()  for s in seqs]"
   ]
  },
  {
   "cell_type": "markdown",
   "metadata": {},
   "source": [
    "Initialize the DCNet."
   ]
  },
  {
   "cell_type": "code",
   "execution_count": 9,
   "metadata": {},
   "outputs": [
    {
     "name": "stderr",
     "output_type": "stream",
     "text": [
      "C:\\Users\\flyku\\anaconda3\\envs\\dl\\lib\\site-packages\\ipykernel_launcher.py:15: UserWarning: nn.init.xavier_uniform is now deprecated in favor of nn.init.xavier_uniform_.\n",
      "  from ipykernel import kernelapp as app\n",
      "C:\\Users\\flyku\\anaconda3\\envs\\dl\\lib\\site-packages\\ipykernel_launcher.py:16: UserWarning: nn.init.xavier_uniform is now deprecated in favor of nn.init.xavier_uniform_.\n",
      "  app.launch_new_instance()\n",
      "C:\\Users\\flyku\\anaconda3\\envs\\dl\\lib\\site-packages\\ipykernel_launcher.py:17: UserWarning: nn.init.xavier_uniform is now deprecated in favor of nn.init.xavier_uniform_.\n",
      "C:\\Users\\flyku\\anaconda3\\envs\\dl\\lib\\site-packages\\ipykernel_launcher.py:11: UserWarning: nn.init.xavier_normal is now deprecated in favor of nn.init.xavier_normal_.\n",
      "  # This is added back by InteractiveShellApp.init_path()\n",
      "C:\\Users\\flyku\\anaconda3\\envs\\dl\\lib\\site-packages\\ipykernel_launcher.py:9: UserWarning: nn.init.constant is now deprecated in favor of nn.init.constant_.\n",
      "  if __name__ == '__main__':\n"
     ]
    }
   ],
   "source": [
    "dcnet = DCNet(32, 12, 12)\n",
    "dcnet.cuda()\n",
    "dcnet.zero_grad()\n",
    "dcnet.hidden = dcnet.init_hidden()\n",
    "\n",
    "# initial the paramerters in the DCNet\n",
    "for name, param in dcnet.named_parameters():\n",
    "    if 'bias' in name:\n",
    "        nn.init.constant(param, 0.0)\n",
    "    elif 'weight' in name:\n",
    "        nn.init.xavier_normal(param)"
   ]
  },
  {
   "cell_type": "markdown",
   "metadata": {},
   "source": [
    "Set up the loss function and SGD optimizer."
   ]
  },
  {
   "cell_type": "code",
   "execution_count": 10,
   "metadata": {},
   "outputs": [],
   "source": [
    "#loss_function = nn.L1Loss()\n",
    "loss_function = nn.MSELoss()\n",
    "lr = 0.1\n",
    "optimizer = optim.SGD(dcnet.parameters(), lr=lr)"
   ]
  },
  {
   "cell_type": "markdown",
   "metadata": {},
   "source": [
    "The following loop train the DCnet using the noisy sequences. We also lowe the learning rate `lr` every 250 epoches"
   ]
  },
  {
   "cell_type": "code",
   "execution_count": null,
   "metadata": {
    "scrolled": false
   },
   "outputs": [
    {
     "name": "stdout",
     "output_type": "stream",
     "text": [
      "epoch: 0 loss: tensor(0.1931, device='cpu') learning rate: 0.1\n",
      "epoch: 250 loss: tensor(0.1787, device='cpu') learning rate: 0.095\n",
      "epoch: 500 loss: tensor(0.1722, device='cpu') learning rate: 0.09025\n"
     ]
    }
   ],
   "source": [
    "range_ = (1, 200)\n",
    "mini_batch_size = 5\n",
    "for epoch in range(751):\n",
    "    for i in range(int(len(seqs_t)/mini_batch_size)):\n",
    "        loss = 0\n",
    "        s, e = range_\n",
    "        for seq2 in random.sample(seqs_t, mini_batch_size):\n",
    "            dcnet.hidden = dcnet.init_hidden()\n",
    "            dcnet.zero_grad()\n",
    "            seq2 = seq2[s-1:e]\n",
    "            seq_ = seq2.view(-1,4)\n",
    "            out = dcnet(seq_)\n",
    "            loss += loss_function(out[:-1], seq_[1:])\n",
    "        loss.backward()\n",
    "        optimizer.step()\n",
    "    if epoch % 250==0:\n",
    "        print(\"epoch:\", epoch, \"loss:\", loss.cpu().data/mini_batch_size, \"learning rate:\", lr)\n",
    "        lr *= 0.95\n",
    "        optimizer = optim.SGD(dcnet.parameters(), lr=lr)"
   ]
  },
  {
   "cell_type": "markdown",
   "metadata": {},
   "source": [
    "We can visualize the input and output tensors after we send the whole original template into the DCNet to reconstruct the output tensor. "
   ]
  },
  {
   "cell_type": "code",
   "execution_count": 47,
   "metadata": {},
   "outputs": [],
   "source": [
    "import numpy as np\n",
    "dcnet.hidden = dcnet.init_hidden()\n",
    "xout = dcnet(seq_t[:250])\n",
    "x1 = xout[:-1].cpu().data.numpy() \n",
    "xx1=np.transpose(seq_t[1:250,0,:].data.cpu().numpy())\n",
    "xx2=np.transpose(x1)\n"
   ]
  },
  {
   "cell_type": "markdown",
   "metadata": {},
   "source": [
    "The cell below plots three matrices. The first one is from the original template. The second one is the reconstruction from the the DCNet using the first base in the template as input. The third one is the differences between the two matrices. In some cases, if the training of the DCNet is not properly converged, you might see a lot of spot lighting up in the third matrix."
   ]
  },
  {
   "cell_type": "markdown",
   "metadata": {},
   "source": [
    "The following code snippet using DCNet to generate a consensus sequence with only the first base in the template. "
   ]
  },
  {
   "cell_type": "code",
   "execution_count": 48,
   "metadata": {},
   "outputs": [],
   "source": [
    "dcnet.hidden = dcnet.init_hidden()\n",
    "base_t= Variable(torch.FloatTensor([one_hot(seq[0])])).cuda()\n",
    "\n",
    "consensus = []\n",
    "\n",
    "for _ in range(201):\n",
    "    xout = dcnet(base_t)\n",
    "    next_t = [0,0,0,0]\n",
    "    next_t[np.argmax(xout.cpu().data.numpy())]=1\n",
    "    consensus.append(next_t)\n",
    "    base_t= Variable(torch.FloatTensor([next_t])).cuda()\n",
    "consensus = np.array(consensus)\n",
    "consensus = consensus.transpose()"
   ]
  },
  {
   "cell_type": "markdown",
   "metadata": {},
   "source": [
    "Let's compare the generated consensus to the original template. If we have generate the consensus perfectly matching the original template, the elements of the third matrix will be all zeros (blue color)."
   ]
  },
  {
   "cell_type": "code",
   "execution_count": 49,
   "metadata": {},
   "outputs": [
    {
     "data": {
      "image/png": "[encoded data removed]",
      "text/plain": [
       "<Figure size 1296x216 with 3 Axes>"
      ]
     },
     "metadata": {
      "needs_background": "light"
     },
     "output_type": "display_data"
    }
   ],
   "source": [
    "\n",
    "plt.figure(figsize=(18,3))\n",
    "plt.subplot(3,1,1)\n",
    "plt.matshow(xx1[:,0:201], vmin=-0.1, vmax=1.1, fignum=False)\n",
    "plt.text(0,6,\"the tensor for the original template\")\n",
    "frame = plt.gca()\n",
    "frame.axes.yaxis.set_ticklabels([])\n",
    "\n",
    "plt.subplot(3,1,2)\n",
    "plt.matshow(consensus, vmin=-0.1, vmax=1.1, fignum=False)\n",
    "plt.text(0,6,\"generated consensus from the DCNet\")\n",
    "frame = plt.gca()\n",
    "frame.axes.yaxis.set_ticklabels([])\n",
    "\n",
    "plt.subplot(3,1,3)\n",
    "plt.matshow(consensus-xx1[:,0:201], vmin=-0.1, vmax=1.1, fignum=False)\n",
    "plt.text(0,6,\"differences\")\n",
    "frame = plt.gca()\n",
    "frame.axes.yaxis.set_ticklabels([]);"
   ]
  }
 ],
 "metadata": {
  "kernelspec": {
   "display_name": "dl",
   "language": "python",
   "name": "dl"
  },
  "language_info": {
   "codemirror_mode": {
    "name": "ipython",
    "version": 3
   },
   "file_extension": ".py",
   "mimetype": "text/x-python",
   "name": "python",
   "nbconvert_exporter": "python",
   "pygments_lexer": "ipython3",
   "version": "3.7.9"
  }
 },
 "nbformat": 4,
 "nbformat_minor": 2
}

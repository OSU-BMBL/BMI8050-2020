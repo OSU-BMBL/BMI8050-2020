{
 "cells": [
  {
   "cell_type": "markdown",
   "metadata": {
    "colab_type": "text",
    "id": "R46-rwd4hNMn"
   },
   "source": [
    "# CNN example: A tutorial of DNA motif finding"
   ]
  },
  {
   "cell_type": "markdown",
   "metadata": {
    "colab_type": "text",
    "id": "eiiwjw4yhX0P"
   },
   "source": [
    "This tutorial is a modified from the supplement to the manuscript, **A Primer on Deep Learning in Genomics** (*Nature Genetics, 2018*) by James Zou, Mikael Huss, Abubakar Abid, Pejman Mohammadi, Ali Torkamani & Amalio Telentil. [Read the accompanying paper here](https://www.nature.com/articles/s41588-018-0295-5).\n"
   ]
  },
  {
   "cell_type": "markdown",
   "metadata": {
    "colab_type": "text",
    "id": "qVh9frJDgVQ-"
   },
   "source": [
    "## Outline "
   ]
  },
  {
   "cell_type": "markdown",
   "metadata": {
    "colab_type": "text",
    "id": "_5D80hwMhnaf"
   },
   "source": [
    "* **0. Background** \n",
    "* **1. Curate the Data**\n",
    "* **2. Select the Architecture and Train**\n",
    "* **3. Evaluate**\n",
    "* **4. Interpret**"
   ]
  },
  {
   "cell_type": "markdown",
   "metadata": {
    "colab_type": "text",
    "id": "fb-0kBFAts0-"
   },
   "source": [
    "## 0. Background"
   ]
  },
  {
   "cell_type": "markdown",
   "metadata": {
    "colab_type": "text",
    "id": "QABdxctitugX"
   },
   "source": [
    "In this tutorial, we will show how to use deep learning to approach an important problem in functional genomics: **the discovery of transcription-factor binding sites in DNA**.\n",
    "\n",
    "As we go through this notebook, we will  design a neural network that can discover binding motifs in DNA based on the results of an assay that determines whether a longer DNA sequence binds to the protein or not. Here, the longer DNA sequences are our *independent variables* (or *predictors*), while the positive or negative response of the assay is the *dependent variable* (or *response*).\n",
    "\n",
    "We will use simulated data that consists of DNA sequences of length 50 bases (chosen to be artificially short so that the data is easy to play around with), and is labeled with 0 or 1 depending on the result of the assay. Our goal is to build a classifier that can predict whether a particular sequence will bind to the protein and discover the short motif that is the binding site in the sequences that are bound to the protein.\n",
    "\n",
    "(Spoiler alert: the true regulatory motif is *`CGACCGAACTCC`*. Of course, the neural network doesn't know this.)\n"
   ]
  },
  {
   "cell_type": "markdown",
   "metadata": {
    "colab_type": "text",
    "id": "aK7wr8n8gzQ_"
   },
   "source": [
    "## 1. Curate the Data"
   ]
  },
  {
   "cell_type": "markdown",
   "metadata": {
    "colab_type": "text",
    "id": "5T-FgQrNq1vS"
   },
   "source": [
    "![alt text](https://github.com/abidlabs/deep-learning-genomics-primer/blob/master/Screenshot%20from%202018-08-01%2020-31-01.png?raw=true)"
   ]
  },
  {
   "cell_type": "markdown",
   "metadata": {
    "colab_type": "text",
    "id": "QRMSFdUSubgX"
   },
   "source": [
    "In order to train the neural network, we must load and preprocess the data, which consists of DNA sequences and their corresponding labels.By processing this data, the network will learn to distinguish sequences that bind to the transcription factor from those that do not. We will split the data into three different sub-datasets:\n",
    "\n",
    "(1) Training dataset: a dataset used to fit the parameters of a model or to define the weights of connections between neurons of a neural network.\n",
    "\n",
    "(2) Validation dataset: a second dataset used to minimize overfitting. The weights of the network are not adjusted with this data set. After each training cycle, if the accuracy over the training data set increases, but the accuracy over the validation data set stays the same or decreases, then there is overfitting on the neural network.\n",
    "\n",
    "(3) Testing dataset: is a third dataset not included in the training nor validation data sets. After all the training and validation cycles are complete, this dataset is used only for testing the final solution in order to measure the actual predictive power of the neural network on new examples.\n",
    "\n",
    "-----------\n",
    "\n",
    "We start by loading the simulated data from an external repository."
   ]
  },
  {
   "cell_type": "code",
   "execution_count": 1,
   "metadata": {
    "colab": {
     "base_uri": "https://localhost:8080/",
     "height": 204
    },
    "colab_type": "code",
    "id": "B_F7VoAMhLiX",
    "outputId": "ac75f1bd-27c7-4abc-94ed-b81f81ed453f"
   },
   "outputs": [
    {
     "data": {
      "text/html": [
       "<div>\n",
       "<style scoped>\n",
       "    .dataframe tbody tr th:only-of-type {\n",
       "        vertical-align: middle;\n",
       "    }\n",
       "\n",
       "    .dataframe tbody tr th {\n",
       "        vertical-align: top;\n",
       "    }\n",
       "\n",
       "    .dataframe thead th {\n",
       "        text-align: right;\n",
       "    }\n",
       "</style>\n",
       "<table border=\"1\" class=\"dataframe\">\n",
       "  <thead>\n",
       "    <tr style=\"text-align: right;\">\n",
       "      <th></th>\n",
       "      <th>Sequences</th>\n",
       "    </tr>\n",
       "  </thead>\n",
       "  <tbody>\n",
       "    <tr>\n",
       "      <th>1</th>\n",
       "      <td>CCGAGGGCTATGGTTTGGAAGTTAGAACCCTGGGGCTTCTCGCGGA...</td>\n",
       "    </tr>\n",
       "    <tr>\n",
       "      <th>2</th>\n",
       "      <td>GAGTTTATATGGCGCGAGCCTAGTGGTTTTTGTACTTGTTTGTCGC...</td>\n",
       "    </tr>\n",
       "    <tr>\n",
       "      <th>3</th>\n",
       "      <td>GATCAGTAGGGAAACAAACAGAGGGCCCAGCCACATCTAGCAGGTA...</td>\n",
       "    </tr>\n",
       "    <tr>\n",
       "      <th>4</th>\n",
       "      <td>GTCCACGACCGAACTCCCACCTTGACCGCAGAGGTACCACCAGAGC...</td>\n",
       "    </tr>\n",
       "    <tr>\n",
       "      <th>5</th>\n",
       "      <td>GGCGACCGAACTCCAACTAGAACCTGCATAACTGGCCTGGGAGATA...</td>\n",
       "    </tr>\n",
       "  </tbody>\n",
       "</table>\n",
       "</div>"
      ],
      "text/plain": [
       "                                           Sequences\n",
       "1  CCGAGGGCTATGGTTTGGAAGTTAGAACCCTGGGGCTTCTCGCGGA...\n",
       "2  GAGTTTATATGGCGCGAGCCTAGTGGTTTTTGTACTTGTTTGTCGC...\n",
       "3  GATCAGTAGGGAAACAAACAGAGGGCCCAGCCACATCTAGCAGGTA...\n",
       "4  GTCCACGACCGAACTCCCACCTTGACCGCAGAGGTACCACCAGAGC...\n",
       "5  GGCGACCGAACTCCAACTAGAACCTGCATAACTGGCCTGGGAGATA..."
      ]
     },
     "execution_count": 1,
     "metadata": {},
     "output_type": "execute_result"
    }
   ],
   "source": [
    "import numpy as np\n",
    "import pandas as pd\n",
    "import matplotlib.pyplot as plt\n",
    "import requests\n",
    "\n",
    "SEQUENCES_URL = 'https://raw.githubusercontent.com/abidlabs/deep-learning-genomics-primer/master/sequences.txt'\n",
    "\n",
    "sequences = requests.get(SEQUENCES_URL).text.split('\\n')\n",
    "sequences = list(filter(None, sequences))  # This removes empty sequences.\n",
    "\n",
    "# Let's print the first few sequences.\n",
    "pd.DataFrame(sequences, index=np.arange(1, len(sequences)+1), \n",
    "             columns=['Sequences']).head()"
   ]
  },
  {
   "cell_type": "markdown",
   "metadata": {
    "colab_type": "text",
    "id": "bzsbNHqWiFek"
   },
   "source": [
    "The next  step is to organize the data into a format that can be passed into a deep learning algorithm. Most deep learning algorithms accept data in the form of vectors or matrices (or more generally, tensors). \n",
    "\n",
    "To get each DNA sequence in the form of a matrix, we use _one-hot encoding_, which encodes every base in a sequence in the form of a 4-dimensional vector, with a separate dimension for each base. We place a \"1\" in the dimension corresponding to the base found in the DNA sequence, and \"0\"s in all other slots. We then concatenate these 4-dimensional vectors together along the bases in the sequence to form a matrix. \n",
    "\n",
    "In the cell below, we one-hot encode the simulated DNA sequences, and show an example of what the one-hot encoded sequence looks like:"
   ]
  },
  {
   "cell_type": "code",
   "execution_count": 2,
   "metadata": {
    "colab": {
     "base_uri": "https://localhost:8080/",
     "height": 170
    },
    "colab_type": "code",
    "id": "IPJD6PuDnaS6",
    "outputId": "9d405c43-efa0-4e80-a19d-272986f5ee8e"
   },
   "outputs": [
    {
     "name": "stdout",
     "output_type": "stream",
     "text": [
      "Example sequence\n",
      "-----------------------\n",
      "DNA Sequence #1:\n",
      " CCGAGGGCTA ... CGCGGACACC\n",
      "One hot encoding of Sequence #1:\n",
      " [[0. 0. 0. ... 1. 0. 0.]\n",
      " [1. 1. 0. ... 0. 1. 1.]\n",
      " [0. 0. 1. ... 0. 0. 0.]\n",
      " [0. 0. 0. ... 0. 0. 0.]]\n"
     ]
    }
   ],
   "source": [
    "from sklearn.preprocessing import LabelEncoder, OneHotEncoder\n",
    "\n",
    "# The LabelEncoder encodes a sequence of bases as a sequence of integers.\n",
    "integer_encoder = LabelEncoder()  \n",
    "# The OneHotEncoder converts an array of integers to a sparse matrix where \n",
    "# each row corresponds to one possible value of each feature.\n",
    "one_hot_encoder = OneHotEncoder(categories='auto')   \n",
    "input_features = []\n",
    "\n",
    "for sequence in sequences:\n",
    "  integer_encoded = integer_encoder.fit_transform(list(sequence))\n",
    "  integer_encoded = np.array(integer_encoded).reshape(-1, 1)\n",
    "  one_hot_encoded = one_hot_encoder.fit_transform(integer_encoded)\n",
    "  input_features.append(one_hot_encoded.toarray())\n",
    "\n",
    "np.set_printoptions(threshold=40)\n",
    "input_features = np.stack(input_features)\n",
    "print(\"Example sequence\\n-----------------------\")\n",
    "print('DNA Sequence #1:\\n',sequences[0][:10],'...',sequences[0][-10:])\n",
    "print('One hot encoding of Sequence #1:\\n',input_features[0].T)"
   ]
  },
  {
   "cell_type": "markdown",
   "metadata": {
    "colab_type": "text",
    "id": "AbBmrEVGrahN"
   },
   "source": [
    "Similarly, we can go ahead and load the labels (_response variables_). In this case, the labels are structured as follows: a \"1\" indicates that a protein bound to the sequence, while a \"0\" indicates that the protein did not. While we could use the labels as a vector, it is often easier to similarly one-hot encode the labels, as we did the features. We carry out that here:"
   ]
  },
  {
   "cell_type": "code",
   "execution_count": 3,
   "metadata": {
    "colab": {
     "base_uri": "https://localhost:8080/",
     "height": 102
    },
    "colab_type": "code",
    "id": "IA9FJeQkr1Ze",
    "outputId": "3a4449a0-96ba-4d55-8658-1b6f025b3fd8"
   },
   "outputs": [
    {
     "name": "stdout",
     "output_type": "stream",
     "text": [
      "Labels:\n",
      " [['0' '0' '0' ... '0' '1' '1']]\n",
      "One-hot encoded labels:\n",
      " [[1. 1. 1. ... 1. 0. 0.]\n",
      " [0. 0. 0. ... 0. 1. 1.]]\n"
     ]
    }
   ],
   "source": [
    "LABELS_URL = 'https://raw.githubusercontent.com/abidlabs/deep-learning-genomics-primer/master/labels.txt'\n",
    "\n",
    "labels = requests.get(LABELS_URL).text.split('\\n')\n",
    "labels = list(filter(None, labels))  # removes empty sequences\n",
    "\n",
    "one_hot_encoder = OneHotEncoder(categories='auto')\n",
    "labels = np.array(labels).reshape(-1, 1)\n",
    "input_labels = one_hot_encoder.fit_transform(labels).toarray()\n",
    "\n",
    "print('Labels:\\n',labels.T)\n",
    "print('One-hot encoded labels:\\n',input_labels.T)"
   ]
  },
  {
   "cell_type": "markdown",
   "metadata": {
    "colab_type": "text",
    "id": "MTokFzDZvQR-"
   },
   "source": [
    "We also go ahead and split the data into training and test sets. The purpose of the test set is to ensure that we can observe the performance of the model on new data, not seen previously during training. At a later step, we will further partition the training set into a training and validation set."
   ]
  },
  {
   "cell_type": "code",
   "execution_count": 4,
   "metadata": {
    "colab": {},
    "colab_type": "code",
    "id": "P_7LKgvc3Lnn"
   },
   "outputs": [],
   "source": [
    "from sklearn.model_selection import train_test_split\n",
    "\n",
    "train_features, test_features, train_labels, test_labels = train_test_split(\n",
    "    input_features, input_labels, test_size=0.25, random_state=42)"
   ]
  },
  {
   "cell_type": "markdown",
   "metadata": {},
   "source": [
    "Let's look at our training data and test data shape"
   ]
  },
  {
   "cell_type": "code",
   "execution_count": 5,
   "metadata": {},
   "outputs": [
    {
     "data": {
      "text/plain": [
       "array([[1., 0.],\n",
       "       [0., 1.],\n",
       "       [0., 1.],\n",
       "       ...,\n",
       "       [1., 0.],\n",
       "       [1., 0.],\n",
       "       [0., 1.]])"
      ]
     },
     "execution_count": 5,
     "metadata": {},
     "output_type": "execute_result"
    }
   ],
   "source": [
    "train_labels"
   ]
  },
  {
   "cell_type": "code",
   "execution_count": 6,
   "metadata": {
    "scrolled": true
   },
   "outputs": [
    {
     "data": {
      "text/plain": [
       "(1500, 50, 4)"
      ]
     },
     "execution_count": 6,
     "metadata": {},
     "output_type": "execute_result"
    }
   ],
   "source": [
    "# 1500 sequences, each sequence has 50 base pairs, and one-hot encoded\n",
    "train_features.shape"
   ]
  },
  {
   "cell_type": "code",
   "execution_count": 7,
   "metadata": {
    "scrolled": false
   },
   "outputs": [
    {
     "data": {
      "text/plain": [
       "(500, 50, 4)"
      ]
     },
     "execution_count": 7,
     "metadata": {},
     "output_type": "execute_result"
    }
   ],
   "source": [
    "test_features.shape"
   ]
  },
  {
   "cell_type": "markdown",
   "metadata": {
    "colab_type": "text",
    "id": "7LQp2ZFrg6dm"
   },
   "source": [
    "## 2. Select the Architecture and Train"
   ]
  },
  {
   "cell_type": "markdown",
   "metadata": {
    "colab_type": "text",
    "id": "xBT6Q3j-sjhh"
   },
   "source": [
    "![alt text](https://github.com/abidlabs/deep-learning-genomics-primer/blob/master/Screenshot%20from%202018-08-01%2020-31-49.png?raw=true)"
   ]
  },
  {
   "cell_type": "markdown",
   "metadata": {
    "colab_type": "text",
    "id": "krHJgtK_rzif"
   },
   "source": [
    "Next, we choose a neural network architecture to train the model. In this tutorial, we choose a simple 1D convolutional neural network (CNN), which is commonly used in deep learning for functional genomics applications.\n",
    "\n",
    "A CNN learns to recognize patterns that are generally invariant across space, by trying to match the input sequence to a number of learnable \"filters\" of a fixed size. In our dataset, the filters will be motifs within the DNA sequences. The CNN may then learn to combine these filters to recognize a larger structure (e.g. the presence or absence of a transcription factor binding site). \n",
    "\n",
    "We will use the deep learning library `Keras`. As of 2017, `Keras` has been integrated into `TensorFlow`,  which makes it very easy to construct neural networks. We only need to specify the kinds of layers we would like to include in our network, and the dimensionality of each layer. The CNN we generate in this example consists of the following layers:\n",
    "\n",
    "- _Conv1D_: We define our convolutional layer to have 32 filters of size 12 bases.\n",
    "\n",
    "- _MaxPooling1D_: After the convolution, we use a pooling layer to down-sample the output of the each of the 32 convolutional filters. Though not always required, this is a typical form of non-linear down-sampling used in CNNs.\n",
    "\n",
    "- _Flatten_: This layer flattens the output of the max pooling layer, combining the results of the convolution and pooling layers across all 32 filters. \n",
    "\n",
    "- _Dense_: The first Dense tensor creates a layer (dense_1) that compresses the representation of the flattened layer, resulting in smaller layer with 16 tensors, and the second Dense function converges the tensors into the output layer (dense_2) that consists of the two possible response values (0 or 1).\n",
    "\n",
    "We can see the details of the architecture of the neural network we have created by running `model.summary()`, which prints the dimensionality and number of parameters for each layer in our network. "
   ]
  },
  {
   "cell_type": "code",
   "execution_count": 23,
   "metadata": {
    "colab": {
     "base_uri": "https://localhost:8080/",
     "height": 377
    },
    "colab_type": "code",
    "id": "dU3imaIns80_",
    "outputId": "851993e7-b2f6-43fd-f061-65e5abd7d76a"
   },
   "outputs": [
    {
     "name": "stdout",
     "output_type": "stream",
     "text": [
      "Model: \"sequential_2\"\n",
      "_________________________________________________________________\n",
      "Layer (type)                 Output Shape              Param #   \n",
      "=================================================================\n",
      "conv1d_2 (Conv1D)            (None, 39, 32)            1568      \n",
      "_________________________________________________________________\n",
      "max_pooling1d_2 (MaxPooling1 (None, 9, 32)             0         \n",
      "_________________________________________________________________\n",
      "flatten_2 (Flatten)          (None, 288)               0         \n",
      "_________________________________________________________________\n",
      "dense_4 (Dense)              (None, 16)                4624      \n",
      "_________________________________________________________________\n",
      "dense_5 (Dense)              (None, 2)                 34        \n",
      "=================================================================\n",
      "Total params: 6,226\n",
      "Trainable params: 6,226\n",
      "Non-trainable params: 0\n",
      "_________________________________________________________________\n"
     ]
    }
   ],
   "source": [
    "from tensorflow.keras.layers import Conv1D, Dense, MaxPooling1D, Flatten\n",
    "from tensorflow.keras.models import Sequential\n",
    "\n",
    "model = Sequential()\n",
    "# TODO: Define the first convolutional layer\n",
    "model.add(Conv1D(filters=32, kernel_size=12, input_shape=(train_features.shape[1], 4)))\n",
    "\n",
    "# TODO: Define the first max pooling layer\n",
    "model.add(MaxPooling1D(pool_size=4))\n",
    "\n",
    "# Define a flatten layer\n",
    "model.add(Flatten())\n",
    "\n",
    "# TODO: Define the fist dense layer\n",
    "model.add(Dense(16, activation='relu'))\n",
    "\n",
    "# TODO: Define the last Dense layer to output the classification probabilities. \n",
    "# Pay attention to the activation needed a probability output\n",
    "model.add(Dense(2, activation='softmax'))\n",
    "\n",
    "# TODO: Define the compile operation with your optimizer'''\n",
    "model.compile(loss='binary_crossentropy', optimizer='adam', metrics=['binary_accuracy'])\n",
    "\n",
    "model.summary()"
   ]
  },
  {
   "cell_type": "markdown",
   "metadata": {
    "colab_type": "text",
    "id": "qSOUwoG_vHRA"
   },
   "source": [
    "Now, we are ready to go ahead and train the neural network. We will further divide the training set into a training and validation set. We will train only on the reduced training set, but plot the loss curve on both the training and validation sets. Once the loss for the validation set stops improving or gets worse throughout the learning cycles, it is time to stop training because the model has already converged and may be just overfitting."
   ]
  },
  {
   "cell_type": "code",
   "execution_count": 24,
   "metadata": {
    "colab": {
     "base_uri": "https://localhost:8080/",
     "height": 447
    },
    "colab_type": "code",
    "id": "LSOmHIM83hXO",
    "outputId": "1bfe5b1d-73ad-4c18-e343-7bcd51b6d3fc"
   },
   "outputs": [
    {
     "name": "stdout",
     "output_type": "stream",
     "text": [
      "Epoch 1/100\n",
      "36/36 [==============================] - 0s 3ms/step - loss: 0.6674 - binary_accuracy: 0.5733 - val_loss: 0.6070 - val_binary_accuracy: 0.7467\n",
      "Epoch 2/100\n",
      "36/36 [==============================] - 0s 2ms/step - loss: 0.5230 - binary_accuracy: 0.7796 - val_loss: 0.4202 - val_binary_accuracy: 0.8320\n",
      "Epoch 3/100\n",
      "36/36 [==============================] - 0s 2ms/step - loss: 0.3570 - binary_accuracy: 0.8809 - val_loss: 0.3052 - val_binary_accuracy: 0.8827\n",
      "Epoch 4/100\n",
      "36/36 [==============================] - 0s 2ms/step - loss: 0.2643 - binary_accuracy: 0.9129 - val_loss: 0.2610 - val_binary_accuracy: 0.9093\n",
      "Epoch 5/100\n",
      "36/36 [==============================] - 0s 2ms/step - loss: 0.1917 - binary_accuracy: 0.9440 - val_loss: 0.1941 - val_binary_accuracy: 0.9413\n",
      "Epoch 6/100\n",
      "36/36 [==============================] - 0s 2ms/step - loss: 0.1436 - binary_accuracy: 0.9618 - val_loss: 0.1638 - val_binary_accuracy: 0.9573\n",
      "Epoch 7/100\n",
      "36/36 [==============================] - 0s 2ms/step - loss: 0.1190 - binary_accuracy: 0.9689 - val_loss: 0.1776 - val_binary_accuracy: 0.9360\n",
      "Epoch 8/100\n",
      "36/36 [==============================] - 0s 2ms/step - loss: 0.0910 - binary_accuracy: 0.9796 - val_loss: 0.1416 - val_binary_accuracy: 0.9520\n",
      "Epoch 9/100\n",
      "36/36 [==============================] - 0s 2ms/step - loss: 0.0757 - binary_accuracy: 0.9822 - val_loss: 0.1623 - val_binary_accuracy: 0.9440\n",
      "Epoch 10/100\n",
      "36/36 [==============================] - 0s 2ms/step - loss: 0.0577 - binary_accuracy: 0.9902 - val_loss: 0.1221 - val_binary_accuracy: 0.9573\n",
      "Epoch 11/100\n",
      "36/36 [==============================] - 0s 2ms/step - loss: 0.0483 - binary_accuracy: 0.9929 - val_loss: 0.1259 - val_binary_accuracy: 0.9573\n",
      "Epoch 12/100\n",
      "36/36 [==============================] - 0s 2ms/step - loss: 0.0396 - binary_accuracy: 0.9947 - val_loss: 0.1157 - val_binary_accuracy: 0.9547\n",
      "Epoch 13/100\n",
      "36/36 [==============================] - 0s 2ms/step - loss: 0.0311 - binary_accuracy: 0.9964 - val_loss: 0.1189 - val_binary_accuracy: 0.9627\n",
      "Epoch 14/100\n",
      "36/36 [==============================] - 0s 2ms/step - loss: 0.0266 - binary_accuracy: 0.9991 - val_loss: 0.1281 - val_binary_accuracy: 0.9573\n",
      "Epoch 15/100\n",
      "36/36 [==============================] - 0s 2ms/step - loss: 0.0209 - binary_accuracy: 1.0000 - val_loss: 0.1081 - val_binary_accuracy: 0.9600\n",
      "Epoch 16/100\n",
      "36/36 [==============================] - 0s 2ms/step - loss: 0.0175 - binary_accuracy: 1.0000 - val_loss: 0.1174 - val_binary_accuracy: 0.9627\n",
      "Epoch 17/100\n",
      "36/36 [==============================] - 0s 2ms/step - loss: 0.0155 - binary_accuracy: 1.0000 - val_loss: 0.1207 - val_binary_accuracy: 0.9627\n",
      "Epoch 18/100\n",
      "36/36 [==============================] - 0s 2ms/step - loss: 0.0114 - binary_accuracy: 1.0000 - val_loss: 0.1199 - val_binary_accuracy: 0.9627\n",
      "Epoch 19/100\n",
      "36/36 [==============================] - 0s 2ms/step - loss: 0.0102 - binary_accuracy: 1.0000 - val_loss: 0.1169 - val_binary_accuracy: 0.9680\n",
      "Epoch 20/100\n",
      "36/36 [==============================] - 0s 2ms/step - loss: 0.0083 - binary_accuracy: 1.0000 - val_loss: 0.1063 - val_binary_accuracy: 0.9600\n",
      "Epoch 21/100\n",
      "36/36 [==============================] - 0s 2ms/step - loss: 0.0083 - binary_accuracy: 1.0000 - val_loss: 0.1403 - val_binary_accuracy: 0.9493\n",
      "Epoch 22/100\n",
      "36/36 [==============================] - 0s 2ms/step - loss: 0.0070 - binary_accuracy: 1.0000 - val_loss: 0.1178 - val_binary_accuracy: 0.9680\n",
      "Epoch 23/100\n",
      "36/36 [==============================] - 0s 2ms/step - loss: 0.0061 - binary_accuracy: 1.0000 - val_loss: 0.1265 - val_binary_accuracy: 0.9600\n",
      "Epoch 24/100\n",
      "36/36 [==============================] - 0s 2ms/step - loss: 0.0051 - binary_accuracy: 1.0000 - val_loss: 0.1063 - val_binary_accuracy: 0.9573\n",
      "Epoch 25/100\n",
      "36/36 [==============================] - 0s 2ms/step - loss: 0.0049 - binary_accuracy: 1.0000 - val_loss: 0.1269 - val_binary_accuracy: 0.9627\n",
      "Epoch 26/100\n",
      "36/36 [==============================] - 0s 2ms/step - loss: 0.0043 - binary_accuracy: 1.0000 - val_loss: 0.1274 - val_binary_accuracy: 0.9627\n",
      "Epoch 27/100\n",
      "36/36 [==============================] - 0s 2ms/step - loss: 0.0038 - binary_accuracy: 1.0000 - val_loss: 0.1252 - val_binary_accuracy: 0.9627\n",
      "Epoch 28/100\n",
      "36/36 [==============================] - 0s 2ms/step - loss: 0.0034 - binary_accuracy: 1.0000 - val_loss: 0.1528 - val_binary_accuracy: 0.9493\n",
      "Epoch 29/100\n",
      "36/36 [==============================] - 0s 2ms/step - loss: 0.0034 - binary_accuracy: 1.0000 - val_loss: 0.1128 - val_binary_accuracy: 0.9653\n",
      "Epoch 30/100\n",
      "36/36 [==============================] - 0s 2ms/step - loss: 0.0029 - binary_accuracy: 1.0000 - val_loss: 0.1251 - val_binary_accuracy: 0.9653\n",
      "Epoch 31/100\n",
      "36/36 [==============================] - 0s 2ms/step - loss: 0.0026 - binary_accuracy: 1.0000 - val_loss: 0.1201 - val_binary_accuracy: 0.9680\n",
      "Epoch 32/100\n",
      "36/36 [==============================] - 0s 2ms/step - loss: 0.0024 - binary_accuracy: 1.0000 - val_loss: 0.1278 - val_binary_accuracy: 0.9627\n",
      "Epoch 33/100\n",
      "36/36 [==============================] - 0s 2ms/step - loss: 0.0023 - binary_accuracy: 1.0000 - val_loss: 0.1298 - val_binary_accuracy: 0.9627\n",
      "Epoch 34/100\n",
      "36/36 [==============================] - 0s 2ms/step - loss: 0.0021 - binary_accuracy: 1.0000 - val_loss: 0.1275 - val_binary_accuracy: 0.9653\n",
      "Epoch 35/100\n",
      "36/36 [==============================] - 0s 2ms/step - loss: 0.0020 - binary_accuracy: 1.0000 - val_loss: 0.1316 - val_binary_accuracy: 0.9627\n",
      "Epoch 36/100\n",
      "36/36 [==============================] - 0s 2ms/step - loss: 0.0018 - binary_accuracy: 1.0000 - val_loss: 0.1232 - val_binary_accuracy: 0.9680\n",
      "Epoch 37/100\n",
      "36/36 [==============================] - 0s 2ms/step - loss: 0.0017 - binary_accuracy: 1.0000 - val_loss: 0.1247 - val_binary_accuracy: 0.9680\n",
      "Epoch 38/100\n",
      "36/36 [==============================] - 0s 2ms/step - loss: 0.0016 - binary_accuracy: 1.0000 - val_loss: 0.1235 - val_binary_accuracy: 0.9680\n",
      "Epoch 39/100\n",
      "36/36 [==============================] - 0s 2ms/step - loss: 0.0015 - binary_accuracy: 1.0000 - val_loss: 0.1374 - val_binary_accuracy: 0.9627\n",
      "Epoch 40/100\n",
      "36/36 [==============================] - 0s 2ms/step - loss: 0.0014 - binary_accuracy: 1.0000 - val_loss: 0.1203 - val_binary_accuracy: 0.9680\n",
      "Epoch 41/100\n",
      "36/36 [==============================] - 0s 2ms/step - loss: 0.0013 - binary_accuracy: 1.0000 - val_loss: 0.1284 - val_binary_accuracy: 0.9653\n",
      "Epoch 42/100\n",
      "36/36 [==============================] - 0s 2ms/step - loss: 0.0012 - binary_accuracy: 1.0000 - val_loss: 0.1327 - val_binary_accuracy: 0.9653\n",
      "Epoch 43/100\n",
      "36/36 [==============================] - 0s 2ms/step - loss: 0.0011 - binary_accuracy: 1.0000 - val_loss: 0.1279 - val_binary_accuracy: 0.9653\n",
      "Epoch 44/100\n",
      "36/36 [==============================] - 0s 2ms/step - loss: 0.0011 - binary_accuracy: 1.0000 - val_loss: 0.1333 - val_binary_accuracy: 0.9653\n",
      "Epoch 45/100\n",
      "36/36 [==============================] - 0s 2ms/step - loss: 9.9320e-04 - binary_accuracy: 1.0000 - val_loss: 0.1238 - val_binary_accuracy: 0.9680\n",
      "Epoch 46/100\n",
      "36/36 [==============================] - 0s 2ms/step - loss: 9.6626e-04 - binary_accuracy: 1.0000 - val_loss: 0.1246 - val_binary_accuracy: 0.9680\n",
      "Epoch 47/100\n",
      "36/36 [==============================] - 0s 2ms/step - loss: 9.1507e-04 - binary_accuracy: 1.0000 - val_loss: 0.1300 - val_binary_accuracy: 0.9653\n",
      "Epoch 48/100\n",
      "36/36 [==============================] - 0s 2ms/step - loss: 8.6275e-04 - binary_accuracy: 1.0000 - val_loss: 0.1284 - val_binary_accuracy: 0.9680\n",
      "Epoch 49/100\n",
      "36/36 [==============================] - 0s 2ms/step - loss: 8.0714e-04 - binary_accuracy: 1.0000 - val_loss: 0.1349 - val_binary_accuracy: 0.9653\n",
      "Epoch 50/100\n",
      "36/36 [==============================] - 0s 2ms/step - loss: 7.7468e-04 - binary_accuracy: 1.0000 - val_loss: 0.1302 - val_binary_accuracy: 0.9680\n",
      "Epoch 51/100\n",
      "36/36 [==============================] - 0s 2ms/step - loss: 7.4171e-04 - binary_accuracy: 1.0000 - val_loss: 0.1325 - val_binary_accuracy: 0.9653\n",
      "Epoch 52/100\n",
      "36/36 [==============================] - 0s 2ms/step - loss: 6.9719e-04 - binary_accuracy: 1.0000 - val_loss: 0.1305 - val_binary_accuracy: 0.9680\n",
      "Epoch 53/100\n"
     ]
    },
    {
     "name": "stdout",
     "output_type": "stream",
     "text": [
      "36/36 [==============================] - 0s 2ms/step - loss: 6.7153e-04 - binary_accuracy: 1.0000 - val_loss: 0.1375 - val_binary_accuracy: 0.9653\n",
      "Epoch 54/100\n",
      "36/36 [==============================] - 0s 2ms/step - loss: 6.3435e-04 - binary_accuracy: 1.0000 - val_loss: 0.1324 - val_binary_accuracy: 0.9653\n",
      "Epoch 55/100\n",
      "36/36 [==============================] - 0s 2ms/step - loss: 6.1318e-04 - binary_accuracy: 1.0000 - val_loss: 0.1352 - val_binary_accuracy: 0.9653\n",
      "Epoch 56/100\n",
      "36/36 [==============================] - 0s 2ms/step - loss: 5.6815e-04 - binary_accuracy: 1.0000 - val_loss: 0.1276 - val_binary_accuracy: 0.9680\n",
      "Epoch 57/100\n",
      "36/36 [==============================] - 0s 2ms/step - loss: 5.7431e-04 - binary_accuracy: 1.0000 - val_loss: 0.1278 - val_binary_accuracy: 0.9680\n",
      "Epoch 58/100\n",
      "36/36 [==============================] - 0s 2ms/step - loss: 5.2920e-04 - binary_accuracy: 1.0000 - val_loss: 0.1366 - val_binary_accuracy: 0.9653\n",
      "Epoch 59/100\n",
      "36/36 [==============================] - 0s 2ms/step - loss: 5.0103e-04 - binary_accuracy: 1.0000 - val_loss: 0.1434 - val_binary_accuracy: 0.9627\n",
      "Epoch 60/100\n",
      "36/36 [==============================] - 0s 2ms/step - loss: 4.8722e-04 - binary_accuracy: 1.0000 - val_loss: 0.1462 - val_binary_accuracy: 0.9627\n",
      "Epoch 61/100\n",
      "36/36 [==============================] - 0s 2ms/step - loss: 4.6047e-04 - binary_accuracy: 1.0000 - val_loss: 0.1416 - val_binary_accuracy: 0.9653\n",
      "Epoch 62/100\n",
      "36/36 [==============================] - 0s 2ms/step - loss: 4.3962e-04 - binary_accuracy: 1.0000 - val_loss: 0.1390 - val_binary_accuracy: 0.9653\n",
      "Epoch 63/100\n",
      "36/36 [==============================] - 0s 2ms/step - loss: 4.2091e-04 - binary_accuracy: 1.0000 - val_loss: 0.1412 - val_binary_accuracy: 0.9653\n",
      "Epoch 64/100\n",
      "36/36 [==============================] - 0s 2ms/step - loss: 4.1069e-04 - binary_accuracy: 1.0000 - val_loss: 0.1405 - val_binary_accuracy: 0.9653\n",
      "Epoch 65/100\n",
      "36/36 [==============================] - 0s 2ms/step - loss: 3.8539e-04 - binary_accuracy: 1.0000 - val_loss: 0.1414 - val_binary_accuracy: 0.9653\n",
      "Epoch 66/100\n",
      "36/36 [==============================] - 0s 2ms/step - loss: 3.7684e-04 - binary_accuracy: 1.0000 - val_loss: 0.1397 - val_binary_accuracy: 0.9653\n",
      "Epoch 67/100\n",
      "36/36 [==============================] - 0s 2ms/step - loss: 3.5694e-04 - binary_accuracy: 1.0000 - val_loss: 0.1447 - val_binary_accuracy: 0.9653\n",
      "Epoch 68/100\n",
      "36/36 [==============================] - 0s 2ms/step - loss: 3.4728e-04 - binary_accuracy: 1.0000 - val_loss: 0.1393 - val_binary_accuracy: 0.9653\n",
      "Epoch 69/100\n",
      "36/36 [==============================] - 0s 2ms/step - loss: 3.3881e-04 - binary_accuracy: 1.0000 - val_loss: 0.1375 - val_binary_accuracy: 0.9653\n",
      "Epoch 70/100\n",
      "36/36 [==============================] - 0s 2ms/step - loss: 3.1937e-04 - binary_accuracy: 1.0000 - val_loss: 0.1360 - val_binary_accuracy: 0.9680\n",
      "Epoch 71/100\n",
      "36/36 [==============================] - 0s 2ms/step - loss: 3.0969e-04 - binary_accuracy: 1.0000 - val_loss: 0.1350 - val_binary_accuracy: 0.9680\n",
      "Epoch 72/100\n",
      "36/36 [==============================] - 0s 2ms/step - loss: 2.9978e-04 - binary_accuracy: 1.0000 - val_loss: 0.1442 - val_binary_accuracy: 0.9653\n",
      "Epoch 73/100\n",
      "36/36 [==============================] - 0s 2ms/step - loss: 2.9222e-04 - binary_accuracy: 1.0000 - val_loss: 0.1433 - val_binary_accuracy: 0.9653\n",
      "Epoch 74/100\n",
      "36/36 [==============================] - 0s 2ms/step - loss: 2.7812e-04 - binary_accuracy: 1.0000 - val_loss: 0.1432 - val_binary_accuracy: 0.9653\n",
      "Epoch 75/100\n",
      "36/36 [==============================] - 0s 2ms/step - loss: 2.6759e-04 - binary_accuracy: 1.0000 - val_loss: 0.1410 - val_binary_accuracy: 0.9653\n",
      "Epoch 76/100\n",
      "36/36 [==============================] - 0s 2ms/step - loss: 2.6288e-04 - binary_accuracy: 1.0000 - val_loss: 0.1568 - val_binary_accuracy: 0.9627\n",
      "Epoch 77/100\n",
      "36/36 [==============================] - 0s 2ms/step - loss: 2.7337e-04 - binary_accuracy: 1.0000 - val_loss: 0.1534 - val_binary_accuracy: 0.9627\n",
      "Epoch 78/100\n",
      "36/36 [==============================] - 0s 2ms/step - loss: 2.4038e-04 - binary_accuracy: 1.0000 - val_loss: 0.1535 - val_binary_accuracy: 0.9627\n",
      "Epoch 79/100\n",
      "36/36 [==============================] - 0s 2ms/step - loss: 2.3275e-04 - binary_accuracy: 1.0000 - val_loss: 0.1439 - val_binary_accuracy: 0.9653\n",
      "Epoch 80/100\n",
      "36/36 [==============================] - 0s 2ms/step - loss: 2.2258e-04 - binary_accuracy: 1.0000 - val_loss: 0.1462 - val_binary_accuracy: 0.9653\n",
      "Epoch 81/100\n",
      "36/36 [==============================] - 0s 2ms/step - loss: 2.1530e-04 - binary_accuracy: 1.0000 - val_loss: 0.1483 - val_binary_accuracy: 0.9653\n",
      "Epoch 82/100\n",
      "36/36 [==============================] - 0s 2ms/step - loss: 2.0924e-04 - binary_accuracy: 1.0000 - val_loss: 0.1558 - val_binary_accuracy: 0.9627\n",
      "Epoch 83/100\n",
      "36/36 [==============================] - 0s 2ms/step - loss: 2.0275e-04 - binary_accuracy: 1.0000 - val_loss: 0.1477 - val_binary_accuracy: 0.9653\n",
      "Epoch 84/100\n",
      "36/36 [==============================] - 0s 2ms/step - loss: 1.9928e-04 - binary_accuracy: 1.0000 - val_loss: 0.1507 - val_binary_accuracy: 0.9653\n",
      "Epoch 85/100\n",
      "36/36 [==============================] - 0s 2ms/step - loss: 1.9165e-04 - binary_accuracy: 1.0000 - val_loss: 0.1539 - val_binary_accuracy: 0.9653\n",
      "Epoch 86/100\n",
      "36/36 [==============================] - 0s 2ms/step - loss: 1.9133e-04 - binary_accuracy: 1.0000 - val_loss: 0.1597 - val_binary_accuracy: 0.9627\n",
      "Epoch 87/100\n",
      "36/36 [==============================] - 0s 2ms/step - loss: 1.8636e-04 - binary_accuracy: 1.0000 - val_loss: 0.1525 - val_binary_accuracy: 0.9653\n",
      "Epoch 88/100\n",
      "36/36 [==============================] - 0s 2ms/step - loss: 1.7580e-04 - binary_accuracy: 1.0000 - val_loss: 0.1520 - val_binary_accuracy: 0.9653\n",
      "Epoch 89/100\n",
      "36/36 [==============================] - 0s 2ms/step - loss: 1.6576e-04 - binary_accuracy: 1.0000 - val_loss: 0.1537 - val_binary_accuracy: 0.9653\n",
      "Epoch 90/100\n",
      "36/36 [==============================] - 0s 2ms/step - loss: 1.5902e-04 - binary_accuracy: 1.0000 - val_loss: 0.1465 - val_binary_accuracy: 0.9653\n",
      "Epoch 91/100\n",
      "36/36 [==============================] - 0s 2ms/step - loss: 1.5733e-04 - binary_accuracy: 1.0000 - val_loss: 0.1470 - val_binary_accuracy: 0.9653\n",
      "Epoch 92/100\n",
      "36/36 [==============================] - 0s 2ms/step - loss: 1.5334e-04 - binary_accuracy: 1.0000 - val_loss: 0.1446 - val_binary_accuracy: 0.9653\n",
      "Epoch 93/100\n",
      "36/36 [==============================] - 0s 2ms/step - loss: 1.5042e-04 - binary_accuracy: 1.0000 - val_loss: 0.1478 - val_binary_accuracy: 0.9653\n",
      "Epoch 94/100\n",
      "36/36 [==============================] - 0s 2ms/step - loss: 1.4124e-04 - binary_accuracy: 1.0000 - val_loss: 0.1525 - val_binary_accuracy: 0.9653\n",
      "Epoch 95/100\n",
      "36/36 [==============================] - 0s 2ms/step - loss: 1.3710e-04 - binary_accuracy: 1.0000 - val_loss: 0.1500 - val_binary_accuracy: 0.9653\n",
      "Epoch 96/100\n",
      "36/36 [==============================] - 0s 2ms/step - loss: 1.3154e-04 - binary_accuracy: 1.0000 - val_loss: 0.1568 - val_binary_accuracy: 0.9653\n",
      "Epoch 97/100\n",
      "36/36 [==============================] - 0s 2ms/step - loss: 1.3056e-04 - binary_accuracy: 1.0000 - val_loss: 0.1575 - val_binary_accuracy: 0.9653\n",
      "Epoch 98/100\n",
      "36/36 [==============================] - 0s 2ms/step - loss: 1.2541e-04 - binary_accuracy: 1.0000 - val_loss: 0.1581 - val_binary_accuracy: 0.9653\n",
      "Epoch 99/100\n",
      "36/36 [==============================] - 0s 2ms/step - loss: 1.2072e-04 - binary_accuracy: 1.0000 - val_loss: 0.1495 - val_binary_accuracy: 0.9653\n",
      "Epoch 100/100\n",
      "36/36 [==============================] - 0s 2ms/step - loss: 1.1872e-04 - binary_accuracy: 1.0000 - val_loss: 0.1504 - val_binary_accuracy: 0.9653\n"
     ]
    },
    {
     "data": {
      "image/png": "[encoded data removed]",
      "text/plain": [
       "<Figure size 432x288 with 1 Axes>"
      ]
     },
     "metadata": {
      "needs_background": "light"
     },
     "output_type": "display_data"
    }
   ],
   "source": [
    "# TODO: Use model.fit to train the CNN model, with the number of epochs, vervose type.\n",
    "history = model.fit(train_features, train_labels, \n",
    "                    epochs=50, verbose=1, validation_split=0.25)\n",
    "\n",
    "plt.figure()\n",
    "plt.plot(history.history['loss'])\n",
    "plt.plot(history.history['val_loss'])\n",
    "plt.title('model loss')\n",
    "plt.ylabel('loss')\n",
    "plt.xlabel('epoch')\n",
    "plt.legend(['train', 'validation'])\n",
    "plt.show()"
   ]
  },
  {
   "cell_type": "markdown",
   "metadata": {
    "colab_type": "text",
    "id": "P5eKDmX8ODBE"
   },
   "source": [
    "Similarly, we can plot the accuracy of our neural network on the binary classification task. The metric used in this example is the _binary accuracy_, which calculates the proportion of predictions that match labels or response variables. Other metrics may be used in different tasks -- for example, the _mean squared error_ is typically used to measure the accuracy for continuous response variables (e.g. polygenic risk scores, total serum cholesterol level, height, weight and systolic blood pressure)."
   ]
  },
  {
   "cell_type": "code",
   "execution_count": 17,
   "metadata": {
    "colab": {
     "base_uri": "https://localhost:8080/",
     "height": 376
    },
    "colab_type": "code",
    "id": "J2Jdpa1i8zqM",
    "outputId": "a1bfe431-0bd4-4c51-d283-dbe6fefd13f7"
   },
   "outputs": [
    {
     "data": {
      "image/png": "[encoded data removed]",
      "text/plain": [
       "<Figure size 432x288 with 1 Axes>"
      ]
     },
     "metadata": {
      "needs_background": "light"
     },
     "output_type": "display_data"
    }
   ],
   "source": [
    "plt.figure()\n",
    "plt.plot(history.history['binary_accuracy'])\n",
    "plt.plot(history.history['val_binary_accuracy'])\n",
    "plt.title('model accuracy')\n",
    "plt.ylabel('accuracy')\n",
    "plt.xlabel('epoch')\n",
    "plt.legend(['train', 'validation'])\n",
    "plt.show()"
   ]
  },
  {
   "cell_type": "markdown",
   "metadata": {
    "colab_type": "text",
    "id": "6Xy7VhhZg-hN"
   },
   "source": [
    "## 3. Evaluate"
   ]
  },
  {
   "cell_type": "markdown",
   "metadata": {
    "colab_type": "text",
    "id": "btf7FyMVsnFA"
   },
   "source": [
    "![alt text](https://github.com/abidlabs/deep-learning-genomics-primer/blob/master/Screenshot%20from%202018-08-01%2020-32-12.png?raw=true)"
   ]
  },
  {
   "cell_type": "markdown",
   "metadata": {
    "colab_type": "text",
    "id": "eQ_xYCvfvFlE"
   },
   "source": [
    "The best way to evaluate whether the network has learned to classify sequences is to evaluate its performance on a fresh test set consisting of data that it has not observed at all during training. \n",
    "\n",
    "With the model trained, we can use it to make predictions. The predict function call generates the output predictions given a set of input samples."
   ]
  },
  {
   "cell_type": "code",
   "execution_count": 18,
   "metadata": {},
   "outputs": [],
   "source": [
    "from sklearn.metrics import confusion_matrix\n",
    "import itertools\n",
    "\n",
    "# TODO: Use model.predict to train the CNN model, with the number of epochs, vervose type.\n",
    "predicted_labels = model.predict(test_features)\n"
   ]
  },
  {
   "cell_type": "markdown",
   "metadata": {},
   "source": [
    "Here, we evaluate the model on the test set and plot the results as a confusion matrix. Nearly every test sequence should be correctly classified.\n"
   ]
  },
  {
   "cell_type": "code",
   "execution_count": 19,
   "metadata": {
    "colab": {
     "base_uri": "https://localhost:8080/",
     "height": 478
    },
    "colab_type": "code",
    "id": "J1bvxV9J-EMT",
    "outputId": "43bd6cbf-671f-4701-b8b2-569a3871d394",
    "scrolled": false
   },
   "outputs": [
    {
     "name": "stdout",
     "output_type": "stream",
     "text": [
      "Confusion matrix:\n",
      " [[252   7]\n",
      " [  2 239]]\n"
     ]
    },
    {
     "data": {
      "image/png": "[encoded data removed]",
      "text/plain": [
       "<Figure size 432x288 with 2 Axes>"
      ]
     },
     "metadata": {
      "needs_background": "light"
     },
     "output_type": "display_data"
    }
   ],
   "source": [
    "\n",
    "cm = confusion_matrix(np.argmax(test_labels, axis=1), \n",
    "                      np.argmax(predicted_labels, axis=1))\n",
    "print('Confusion matrix:\\n',cm)\n",
    "\n",
    "cm = cm.astype('float') / cm.sum(axis = 1)[:, np.newaxis]\n",
    "\n",
    "plt.imshow(cm, cmap=plt.cm.Blues)\n",
    "plt.title('Normalized confusion matrix')\n",
    "plt.colorbar()\n",
    "plt.xlabel('True label')\n",
    "plt.ylabel('Predicted label')\n",
    "plt.xticks([0, 1]); plt.yticks([0, 1])\n",
    "plt.grid('off')\n",
    "for i, j in itertools.product(range(cm.shape[0]), range(cm.shape[1])):\n",
    "    plt.text(j, i, format(cm[i, j], '.2f'),\n",
    "             horizontalalignment='center',\n",
    "             color='white' if cm[i, j] > 0.5 else 'black')"
   ]
  },
  {
   "cell_type": "markdown",
   "metadata": {
    "colab_type": "text",
    "id": "UBdJQC1Ug__3"
   },
   "source": [
    "## 4. Interpret"
   ]
  },
  {
   "cell_type": "markdown",
   "metadata": {
    "colab_type": "text",
    "id": "6qmKi1ResqHo"
   },
   "source": [
    "![alt text](https://github.com/abidlabs/deep-learning-genomics-primer/blob/master/Screenshot%20from%202018-08-01%2020-32-31.png?raw=true)"
   ]
  },
  {
   "cell_type": "markdown",
   "metadata": {
    "colab_type": "text",
    "id": "UpAwoK9SwAbb"
   },
   "source": [
    "Your results so far should allow you to conclude that the neural network is quite effective in learning to distinguish sequences that bind the protein from sequences that do not. But can we understand _why_ the neural network classifies a training point in the way that it does? To do so, we can compute a simple _saliency map_, which is the gradient of the model's prediction with respect to each individual nucleotide. \n",
    "\n",
    "In other words, the saliency maps shows how the output response value changes with respect to a small changes in input nucleotide sequence. All the positive values in the gradients tell us that a small change to that nucleotide will change the output value. Hence, visualizing these gradients for a given input sequence, should provide some clues about what nucleotides form the binding motive that we are trying to identify."
   ]
  },
  {
   "cell_type": "code",
   "execution_count": 20,
   "metadata": {
    "colab": {},
    "colab_type": "code",
    "id": "WNT_Au-dAP8a"
   },
   "outputs": [],
   "source": [
    "import tensorflow.keras.backend as K\n",
    "\n",
    "def compute_salient_bases(model, x):\n",
    "  input_tensors = [model.input]\n",
    "  gradients = model.optimizer.get_gradients(model.output[0][1], model.input)\n",
    "  compute_gradients = K.function(inputs = input_tensors, outputs = gradients)\n",
    "  \n",
    "  x_value = np.expand_dims(x, axis=0)\n",
    "  gradients = compute_gradients([x_value])[0][0]\n",
    "  sal = np.clip(np.sum(np.multiply(gradients,x), axis=1),a_min=0, a_max=None)\n",
    "  return sal"
   ]
  },
  {
   "cell_type": "code",
   "execution_count": 21,
   "metadata": {
    "colab": {
     "base_uri": "https://localhost:8080/",
     "height": 349
    },
    "colab_type": "code",
    "id": "uObq5iC4BG1g",
    "outputId": "147a7cdf-375f-4832-8b4e-e3450dcf2115",
    "scrolled": false
   },
   "outputs": [
    {
     "data": {
      "image/png": "[encoded data removed]",
      "text/plain": [
       "<Figure size 1152x360 with 1 Axes>"
      ]
     },
     "metadata": {
      "needs_background": "light"
     },
     "output_type": "display_data"
    }
   ],
   "source": [
    "sequence_index = 1999  # You can change this to compute the gradient for a different example. But if so, change the coloring below as well.\n",
    "sal = compute_salient_bases(model, input_features[sequence_index])\n",
    "\n",
    "plt.figure(figsize=[16,5])\n",
    "barlist = plt.bar(np.arange(len(sal)), sal)\n",
    "[barlist[i].set_color('C1') for i in range(5,17)]  # Change the coloring here if you change the sequence index.\n",
    "plt.xlabel('Bases')\n",
    "plt.ylabel('Magnitude of saliency values')\n",
    "plt.xticks(np.arange(len(sal)), list(sequences[sequence_index]));\n",
    "plt.title('Saliency map for bases in one of the positive sequences'\n",
    "          ' (orange indicates the actual bases in motif)');"
   ]
  },
  {
   "cell_type": "markdown",
   "metadata": {
    "colab_type": "text",
    "id": "voPIrz9TPtIH"
   },
   "source": [
    "The results above should show high saliency values for the bases _CGACCGAACTCC_ appearing in the DNA sequence. If you recall from the top of the document, this is exactly the motif that we embedded in the positive sequences! The raw saliency values may be non-zero for other bases as well -- the gradient-based saliency map method is not perfect, and there other more complex interpretation methods that are used in practice to obtain better results.  \n",
    "\n",
    "Furthermore, we may explore other architectures for our neural network to see if we can improve performance on the validation dataset. For example, we could choose different _hyper-parameters_, which are variables that define the network structure (e.g. the number of dense or convolutional layers, the dimensionality of each layer, etc.) and variables that determine how the network is trained (e.g. the number of epochs, the learning rate, etc.). Testing different hyper-parameter values or performing a hyper-parameter search grid are good practices that may help the deep learning procedure to obtain a clearer signal for classifying sequences and identifying the binding motif."
   ]
  },
  {
   "cell_type": "code",
   "execution_count": null,
   "metadata": {},
   "outputs": [],
   "source": []
  }
 ],
 "metadata": {
  "accelerator": "GPU",
  "colab": {
   "collapsed_sections": [],
   "name": "A Primer on Deep Learning in Genomics - Public.ipynb",
   "provenance": []
  },
  "kernelspec": {
   "display_name": "Python [conda env:dl] *",
   "language": "python",
   "name": "conda-env-dl-py"
  },
  "language_info": {
   "codemirror_mode": {
    "name": "ipython",
    "version": 3
   },
   "file_extension": ".py",
   "mimetype": "text/x-python",
   "name": "python",
   "nbconvert_exporter": "python",
   "pygments_lexer": "ipython3",
   "version": "3.7.9"
  }
 },
 "nbformat": 4,
 "nbformat_minor": 1
}

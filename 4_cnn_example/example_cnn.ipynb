{
 "cells": [
  {
   "cell_type": "markdown",
   "metadata": {
    "colab_type": "text",
    "id": "R46-rwd4hNMn"
   },
   "source": [
    "# CNN example: A tutorial of DNA motif finding"
   ]
  },
  {
   "cell_type": "markdown",
   "metadata": {
    "colab_type": "text",
    "id": "eiiwjw4yhX0P"
   },
   "source": [
    "This tutorial is a modified from the supplement to the manuscript, **A Primer on Deep Learning in Genomics** (*Nature Genetics, 2018*) by James Zou, Mikael Huss, Abubakar Abid, Pejman Mohammadi, Ali Torkamani & Amalio Telentil. [Read the accompanying paper here](https://www.nature.com/articles/s41588-018-0295-5).\n"
   ]
  },
  {
   "cell_type": "markdown",
   "metadata": {
    "colab_type": "text",
    "id": "qVh9frJDgVQ-"
   },
   "source": [
    "## Outline "
   ]
  },
  {
   "cell_type": "markdown",
   "metadata": {
    "colab_type": "text",
    "id": "_5D80hwMhnaf"
   },
   "source": [
    "* **0. Background** \n",
    "* **1. Curate the Data**\n",
    "* **2. Select the Architecture and Train**\n",
    "* **3. Evaluate**\n",
    "* **4. Interpret**"
   ]
  },
  {
   "cell_type": "markdown",
   "metadata": {
    "colab_type": "text",
    "id": "fb-0kBFAts0-"
   },
   "source": [
    "## 0. Background"
   ]
  },
  {
   "cell_type": "markdown",
   "metadata": {
    "colab_type": "text",
    "id": "QABdxctitugX"
   },
   "source": [
    "In this tutorial, we will show how to use deep learning to approach an important problem in functional genomics: **the discovery of transcription-factor binding sites in DNA**.\n",
    "\n",
    "As we go through this notebook, we will  design a neural network that can discover binding motifs in DNA based on the results of an assay that determines whether a longer DNA sequence binds to the protein or not. Here, the longer DNA sequences are our *independent variables* (or *predictors*), while the positive or negative response of the assay is the *dependent variable* (or *response*).\n",
    "\n",
    "We will use simulated data that consists of DNA sequences of length 50 bases (chosen to be artificially short so that the data is easy to play around with), and is labeled with 0 or 1 depending on the result of the assay. Our goal is to build a classifier that can predict whether a particular sequence will bind to the protein and discover the short motif that is the binding site in the sequences that are bound to the protein.\n",
    "\n",
    "(Spoiler alert: the true regulatory motif is *`CGACCGAACTCC`*. Of course, the neural network doesn't know this.)\n"
   ]
  },
  {
   "cell_type": "markdown",
   "metadata": {
    "colab_type": "text",
    "id": "aK7wr8n8gzQ_"
   },
   "source": [
    "## 1. Curate the Data"
   ]
  },
  {
   "cell_type": "markdown",
   "metadata": {
    "colab_type": "text",
    "id": "5T-FgQrNq1vS"
   },
   "source": [
    "![alt text](https://github.com/abidlabs/deep-learning-genomics-primer/blob/master/Screenshot%20from%202018-08-01%2020-31-01.png?raw=true)"
   ]
  },
  {
   "cell_type": "markdown",
   "metadata": {
    "colab_type": "text",
    "id": "QRMSFdUSubgX"
   },
   "source": [
    "In order to train the neural network, we must load and preprocess the data, which consists of DNA sequences and their corresponding labels.By processing this data, the network will learn to distinguish sequences that bind to the transcription factor from those that do not. We will split the data into three different sub-datasets:\n",
    "\n",
    "(1) Training dataset: a dataset used to fit the parameters of a model or to define the weights of connections between neurons of a neural network.\n",
    "\n",
    "(2) Validation dataset: a second dataset used to minimize overfitting. The weights of the network are not adjusted with this data set. After each training cycle, if the accuracy over the training data set increases, but the accuracy over the validation data set stays the same or decreases, then there is overfitting on the neural network.\n",
    "\n",
    "(3) Testing dataset: is a third dataset not included in the training nor validation data sets. After all the training and validation cycles are complete, this dataset is used only for testing the final solution in order to measure the actual predictive power of the neural network on new examples.\n",
    "\n",
    "-----------\n",
    "\n",
    "We start by loading the simulated data from an external repository."
   ]
  },
  {
   "cell_type": "code",
   "execution_count": 14,
   "metadata": {
    "colab": {
     "base_uri": "https://localhost:8080/",
     "height": 204
    },
    "colab_type": "code",
    "id": "B_F7VoAMhLiX",
    "outputId": "ac75f1bd-27c7-4abc-94ed-b81f81ed453f"
   },
   "outputs": [
    {
     "data": {
      "text/html": [
       "<div>\n",
       "<style scoped>\n",
       "    .dataframe tbody tr th:only-of-type {\n",
       "        vertical-align: middle;\n",
       "    }\n",
       "\n",
       "    .dataframe tbody tr th {\n",
       "        vertical-align: top;\n",
       "    }\n",
       "\n",
       "    .dataframe thead th {\n",
       "        text-align: right;\n",
       "    }\n",
       "</style>\n",
       "<table border=\"1\" class=\"dataframe\">\n",
       "  <thead>\n",
       "    <tr style=\"text-align: right;\">\n",
       "      <th></th>\n",
       "      <th>Sequences</th>\n",
       "    </tr>\n",
       "  </thead>\n",
       "  <tbody>\n",
       "    <tr>\n",
       "      <th>1</th>\n",
       "      <td>CCGAGGGCTATGGTTTGGAAGTTAGAACCCTGGGGCTTCTCGCGGA...</td>\n",
       "    </tr>\n",
       "    <tr>\n",
       "      <th>2</th>\n",
       "      <td>GAGTTTATATGGCGCGAGCCTAGTGGTTTTTGTACTTGTTTGTCGC...</td>\n",
       "    </tr>\n",
       "    <tr>\n",
       "      <th>3</th>\n",
       "      <td>GATCAGTAGGGAAACAAACAGAGGGCCCAGCCACATCTAGCAGGTA...</td>\n",
       "    </tr>\n",
       "    <tr>\n",
       "      <th>4</th>\n",
       "      <td>GTCCACGACCGAACTCCCACCTTGACCGCAGAGGTACCACCAGAGC...</td>\n",
       "    </tr>\n",
       "    <tr>\n",
       "      <th>5</th>\n",
       "      <td>GGCGACCGAACTCCAACTAGAACCTGCATAACTGGCCTGGGAGATA...</td>\n",
       "    </tr>\n",
       "  </tbody>\n",
       "</table>\n",
       "</div>"
      ],
      "text/plain": [
       "                                           Sequences\n",
       "1  CCGAGGGCTATGGTTTGGAAGTTAGAACCCTGGGGCTTCTCGCGGA...\n",
       "2  GAGTTTATATGGCGCGAGCCTAGTGGTTTTTGTACTTGTTTGTCGC...\n",
       "3  GATCAGTAGGGAAACAAACAGAGGGCCCAGCCACATCTAGCAGGTA...\n",
       "4  GTCCACGACCGAACTCCCACCTTGACCGCAGAGGTACCACCAGAGC...\n",
       "5  GGCGACCGAACTCCAACTAGAACCTGCATAACTGGCCTGGGAGATA..."
      ]
     },
     "execution_count": 14,
     "metadata": {},
     "output_type": "execute_result"
    }
   ],
   "source": [
    "import numpy as np\n",
    "import pandas as pd\n",
    "import matplotlib.pyplot as plt\n",
    "import requests\n",
    "\n",
    "SEQUENCES_URL = 'https://raw.githubusercontent.com/abidlabs/deep-learning-genomics-primer/master/sequences.txt'\n",
    "\n",
    "sequences = requests.get(SEQUENCES_URL).text.split('\\n')\n",
    "sequences = list(filter(None, sequences))  # This removes empty sequences.\n",
    "\n",
    "# Let's print the first few sequences.\n",
    "pd.DataFrame(sequences, index=np.arange(1, len(sequences)+1), \n",
    "             columns=['Sequences']).head()"
   ]
  },
  {
   "cell_type": "markdown",
   "metadata": {
    "colab_type": "text",
    "id": "bzsbNHqWiFek"
   },
   "source": [
    "The next  step is to organize the data into a format that can be passed into a deep learning algorithm. Most deep learning algorithms accept data in the form of vectors or matrices (or more generally, tensors). \n",
    "\n",
    "To get each DNA sequence in the form of a matrix, we use _one-hot encoding_, which encodes every base in a sequence in the form of a 4-dimensional vector, with a separate dimension for each base. We place a \"1\" in the dimension corresponding to the base found in the DNA sequence, and \"0\"s in all other slots. We then concatenate these 4-dimensional vectors together along the bases in the sequence to form a matrix. \n",
    "\n",
    "In the cell below, we one-hot encode the simulated DNA sequences, and show an example of what the one-hot encoded sequence looks like:"
   ]
  },
  {
   "cell_type": "code",
   "execution_count": 15,
   "metadata": {
    "colab": {
     "base_uri": "https://localhost:8080/",
     "height": 170
    },
    "colab_type": "code",
    "id": "IPJD6PuDnaS6",
    "outputId": "9d405c43-efa0-4e80-a19d-272986f5ee8e"
   },
   "outputs": [
    {
     "name": "stdout",
     "output_type": "stream",
     "text": [
      "Example sequence\n",
      "-----------------------\n",
      "DNA Sequence #1:\n",
      " CCGAGGGCTA ... CGCGGACACC\n",
      "One hot encoding of Sequence #1:\n",
      " [[0. 0. 0. ... 1. 0. 0.]\n",
      " [1. 1. 0. ... 0. 1. 1.]\n",
      " [0. 0. 1. ... 0. 0. 0.]\n",
      " [0. 0. 0. ... 0. 0. 0.]]\n"
     ]
    }
   ],
   "source": [
    "from sklearn.preprocessing import LabelEncoder, OneHotEncoder\n",
    "\n",
    "# The LabelEncoder encodes a sequence of bases as a sequence of integers.\n",
    "integer_encoder = LabelEncoder()  \n",
    "# The OneHotEncoder converts an array of integers to a sparse matrix where \n",
    "# each row corresponds to one possible value of each feature.\n",
    "one_hot_encoder = OneHotEncoder(categories='auto')   \n",
    "input_features = []\n",
    "\n",
    "for sequence in sequences:\n",
    "  integer_encoded = integer_encoder.fit_transform(list(sequence))\n",
    "  integer_encoded = np.array(integer_encoded).reshape(-1, 1)\n",
    "  one_hot_encoded = one_hot_encoder.fit_transform(integer_encoded)\n",
    "  input_features.append(one_hot_encoded.toarray())\n",
    "\n",
    "np.set_printoptions(threshold=40)\n",
    "input_features = np.stack(input_features)\n",
    "print(\"Example sequence\\n-----------------------\")\n",
    "print('DNA Sequence #1:\\n',sequences[0][:10],'...',sequences[0][-10:])\n",
    "print('One hot encoding of Sequence #1:\\n',input_features[0].T)"
   ]
  },
  {
   "cell_type": "markdown",
   "metadata": {
    "colab_type": "text",
    "id": "AbBmrEVGrahN"
   },
   "source": [
    "Similarly, we can go ahead and load the labels (_response variables_). In this case, the labels are structured as follows: a \"1\" indicates that a protein bound to the sequence, while a \"0\" indicates that the protein did not. While we could use the labels as a vector, it is often easier to similarly one-hot encode the labels, as we did the features. We carry out that here:"
   ]
  },
  {
   "cell_type": "code",
   "execution_count": 16,
   "metadata": {
    "colab": {
     "base_uri": "https://localhost:8080/",
     "height": 102
    },
    "colab_type": "code",
    "id": "IA9FJeQkr1Ze",
    "outputId": "3a4449a0-96ba-4d55-8658-1b6f025b3fd8"
   },
   "outputs": [
    {
     "name": "stdout",
     "output_type": "stream",
     "text": [
      "Labels:\n",
      " [['0' '0' '0' ... '0' '1' '1']]\n",
      "One-hot encoded labels:\n",
      " [[1. 1. 1. ... 1. 0. 0.]\n",
      " [0. 0. 0. ... 0. 1. 1.]]\n"
     ]
    }
   ],
   "source": [
    "LABELS_URL = 'https://raw.githubusercontent.com/abidlabs/deep-learning-genomics-primer/master/labels.txt'\n",
    "\n",
    "labels = requests.get(LABELS_URL).text.split('\\n')\n",
    "labels = list(filter(None, labels))  # removes empty sequences\n",
    "\n",
    "one_hot_encoder = OneHotEncoder(categories='auto')\n",
    "labels = np.array(labels).reshape(-1, 1)\n",
    "input_labels = one_hot_encoder.fit_transform(labels).toarray()\n",
    "\n",
    "print('Labels:\\n',labels.T)\n",
    "print('One-hot encoded labels:\\n',input_labels.T)"
   ]
  },
  {
   "cell_type": "markdown",
   "metadata": {
    "colab_type": "text",
    "id": "MTokFzDZvQR-"
   },
   "source": [
    "We also go ahead and split the data into training and test sets. The purpose of the test set is to ensure that we can observe the performance of the model on new data, not seen previously during training. At a later step, we will further partition the training set into a training and validation set."
   ]
  },
  {
   "cell_type": "code",
   "execution_count": 17,
   "metadata": {
    "colab": {},
    "colab_type": "code",
    "id": "P_7LKgvc3Lnn"
   },
   "outputs": [],
   "source": [
    "from sklearn.model_selection import train_test_split\n",
    "\n",
    "train_features, test_features, train_labels, test_labels = train_test_split(\n",
    "    input_features, input_labels, test_size=0.25, random_state=42)"
   ]
  },
  {
   "cell_type": "markdown",
   "metadata": {},
   "source": [
    "Let's look at our training data and test data shape"
   ]
  },
  {
   "cell_type": "code",
   "execution_count": 18,
   "metadata": {},
   "outputs": [
    {
     "data": {
      "text/plain": [
       "array([[1., 0.],\n",
       "       [0., 1.],\n",
       "       [0., 1.],\n",
       "       ...,\n",
       "       [1., 0.],\n",
       "       [1., 0.],\n",
       "       [0., 1.]])"
      ]
     },
     "execution_count": 18,
     "metadata": {},
     "output_type": "execute_result"
    }
   ],
   "source": [
    "train_labels"
   ]
  },
  {
   "cell_type": "code",
   "execution_count": 19,
   "metadata": {
    "scrolled": true
   },
   "outputs": [
    {
     "data": {
      "text/plain": [
       "(1500, 50, 4)"
      ]
     },
     "execution_count": 19,
     "metadata": {},
     "output_type": "execute_result"
    }
   ],
   "source": [
    "# 1500 sequences, each sequence has 50 base pairs, and one-hot encoded\n",
    "train_features.shape"
   ]
  },
  {
   "cell_type": "code",
   "execution_count": 20,
   "metadata": {
    "scrolled": false
   },
   "outputs": [
    {
     "data": {
      "text/plain": [
       "(500, 50, 4)"
      ]
     },
     "execution_count": 20,
     "metadata": {},
     "output_type": "execute_result"
    }
   ],
   "source": [
    "test_features.shape"
   ]
  },
  {
   "cell_type": "markdown",
   "metadata": {
    "colab_type": "text",
    "id": "7LQp2ZFrg6dm"
   },
   "source": [
    "## 2. Select the Architecture and Train"
   ]
  },
  {
   "cell_type": "markdown",
   "metadata": {
    "colab_type": "text",
    "id": "xBT6Q3j-sjhh"
   },
   "source": [
    "![alt text](https://github.com/abidlabs/deep-learning-genomics-primer/blob/master/Screenshot%20from%202018-08-01%2020-31-49.png?raw=true)"
   ]
  },
  {
   "cell_type": "markdown",
   "metadata": {
    "colab_type": "text",
    "id": "krHJgtK_rzif"
   },
   "source": [
    "Next, we choose a neural network architecture to train the model. In this tutorial, we choose a simple 1D convolutional neural network (CNN), which is commonly used in deep learning for functional genomics applications.\n",
    "\n",
    "A CNN learns to recognize patterns that are generally invariant across space, by trying to match the input sequence to a number of learnable \"filters\" of a fixed size. In our dataset, the filters will be motifs within the DNA sequences. The CNN may then learn to combine these filters to recognize a larger structure (e.g. the presence or absence of a transcription factor binding site). \n",
    "\n",
    "We will use the deep learning library `Keras`. As of 2017, `Keras` has been integrated into `TensorFlow`,  which makes it very easy to construct neural networks. We only need to specify the kinds of layers we would like to include in our network, and the dimensionality of each layer. The CNN we generate in this example consists of the following layers:\n",
    "\n",
    "- _Conv1D_: We define our convolutional layer to have 32 filters of size 12 bases.\n",
    "\n",
    "- _MaxPooling1D_: After the convolution, we use a pooling layer to down-sample the output of the each of the 32 convolutional filters. Though not always required, this is a typical form of non-linear down-sampling used in CNNs.\n",
    "\n",
    "- _Flatten_: This layer flattens the output of the max pooling layer, combining the results of the convolution and pooling layers across all 32 filters. \n",
    "\n",
    "- _Dense_: The first Dense tensor creates a layer (dense_1) that compresses the representation of the flattened layer, resulting in smaller layer with 16 tensors, and the second Dense function converges the tensors into the output layer (dense_2) that consists of the two possible response values (0 or 1).\n",
    "\n",
    "We can see the details of the architecture of the neural network we have created by running `model.summary()`, which prints the dimensionality and number of parameters for each layer in our network. "
   ]
  },
  {
   "cell_type": "code",
   "execution_count": 5,
   "metadata": {
    "colab": {
     "base_uri": "https://localhost:8080/",
     "height": 377
    },
    "colab_type": "code",
    "id": "dU3imaIns80_",
    "outputId": "851993e7-b2f6-43fd-f061-65e5abd7d76a"
   },
   "outputs": [
    {
     "name": "stdout",
     "output_type": "stream",
     "text": [
      "Model: \"sequential\"\n",
      "_________________________________________________________________\n",
      "Layer (type)                 Output Shape              Param #   \n",
      "=================================================================\n",
      "conv1d (Conv1D)              (None, 39, 32)            1568      \n",
      "_________________________________________________________________\n",
      "max_pooling1d (MaxPooling1D) (None, 9, 32)             0         \n",
      "_________________________________________________________________\n",
      "flatten (Flatten)            (None, 288)               0         \n",
      "_________________________________________________________________\n",
      "dense (Dense)                (None, 16)                4624      \n",
      "_________________________________________________________________\n",
      "dense_1 (Dense)              (None, 2)                 34        \n",
      "=================================================================\n",
      "Total params: 6,226\n",
      "Trainable params: 6,226\n",
      "Non-trainable params: 0\n",
      "_________________________________________________________________\n"
     ]
    }
   ],
   "source": [
    "from tensorflow.keras.layers import Conv1D, Dense, MaxPooling1D, Flatten\n",
    "from tensorflow.keras.models import Sequential\n",
    "\n",
    "model = Sequential()\n",
    "# TODO: Define the first convolutional layer\n",
    "model.add(Conv1D(filters=32, kernel_size=12, input_shape=(train_features.shape[1], 4)))\n",
    "\n",
    "# TODO: Define the first max pooling layer\n",
    "model.add(MaxPooling1D())\n",
    "\n",
    "# Define a flatten layer\n",
    "model.add(Flatten())\n",
    "\n",
    "# TODO: Define the first dense layer\n",
    "model.add(Dense())\n",
    "\n",
    "# TODO: Define the last Dense layer to output the classification probabilities. \n",
    "# Pay attention to the activation needed a probability output\n",
    "model.add(Dense())\n",
    "\n",
    "# TODO: Define the compile operation with your optimizer and learning rate of choice'''\n",
    "model.compile()\n",
    "\n",
    "model.summary()"
   ]
  },
  {
   "cell_type": "markdown",
   "metadata": {
    "colab_type": "text",
    "id": "qSOUwoG_vHRA"
   },
   "source": [
    "Now, we are ready to go ahead and train the neural network. We will further divide the training set into a training and validation set. We will train only on the reduced training set, but plot the loss curve on both the training and validation sets. Once the loss for the validation set stops improving or gets worse throughout the learning cycles, it is time to stop training because the model has already converged and may be just overfitting."
   ]
  },
  {
   "cell_type": "code",
   "execution_count": 6,
   "metadata": {
    "colab": {
     "base_uri": "https://localhost:8080/",
     "height": 447
    },
    "colab_type": "code",
    "id": "LSOmHIM83hXO",
    "outputId": "1bfe5b1d-73ad-4c18-e343-7bcd51b6d3fc"
   },
   "outputs": [
    {
     "name": "stdout",
     "output_type": "stream",
     "text": [
      "Epoch 1/50\n",
      "36/36 [==============================] - 0s 5ms/step - loss: 0.6637 - binary_accuracy: 0.6151 - val_loss: 0.5963 - val_binary_accuracy: 0.7173\n",
      "Epoch 2/50\n",
      "36/36 [==============================] - 0s 2ms/step - loss: 0.5217 - binary_accuracy: 0.7796 - val_loss: 0.4177 - val_binary_accuracy: 0.8507\n",
      "Epoch 3/50\n",
      "36/36 [==============================] - 0s 2ms/step - loss: 0.3780 - binary_accuracy: 0.8489 - val_loss: 0.3131 - val_binary_accuracy: 0.8800\n",
      "Epoch 4/50\n",
      "36/36 [==============================] - 0s 2ms/step - loss: 0.2774 - binary_accuracy: 0.8924 - val_loss: 0.2377 - val_binary_accuracy: 0.9173\n",
      "Epoch 5/50\n",
      "36/36 [==============================] - 0s 2ms/step - loss: 0.2016 - binary_accuracy: 0.9396 - val_loss: 0.1832 - val_binary_accuracy: 0.9467\n",
      "Epoch 6/50\n",
      "36/36 [==============================] - 0s 2ms/step - loss: 0.1443 - binary_accuracy: 0.9600 - val_loss: 0.1553 - val_binary_accuracy: 0.9573\n",
      "Epoch 7/50\n",
      "36/36 [==============================] - 0s 2ms/step - loss: 0.1055 - binary_accuracy: 0.9707 - val_loss: 0.1383 - val_binary_accuracy: 0.9627\n",
      "Epoch 8/50\n",
      "36/36 [==============================] - 0s 2ms/step - loss: 0.0858 - binary_accuracy: 0.9769 - val_loss: 0.1272 - val_binary_accuracy: 0.9627\n",
      "Epoch 9/50\n",
      "36/36 [==============================] - 0s 2ms/step - loss: 0.0738 - binary_accuracy: 0.9884 - val_loss: 0.1153 - val_binary_accuracy: 0.9680\n",
      "Epoch 10/50\n",
      "36/36 [==============================] - 0s 2ms/step - loss: 0.0547 - binary_accuracy: 0.9876 - val_loss: 0.1651 - val_binary_accuracy: 0.9440\n",
      "Epoch 11/50\n",
      "36/36 [==============================] - 0s 2ms/step - loss: 0.0464 - binary_accuracy: 0.9884 - val_loss: 0.1100 - val_binary_accuracy: 0.9680\n",
      "Epoch 12/50\n",
      "36/36 [==============================] - 0s 2ms/step - loss: 0.0332 - binary_accuracy: 0.9973 - val_loss: 0.1216 - val_binary_accuracy: 0.9627\n",
      "Epoch 13/50\n",
      "36/36 [==============================] - 0s 2ms/step - loss: 0.0273 - binary_accuracy: 0.9991 - val_loss: 0.1076 - val_binary_accuracy: 0.9680\n",
      "Epoch 14/50\n",
      "36/36 [==============================] - 0s 2ms/step - loss: 0.0207 - binary_accuracy: 1.0000 - val_loss: 0.1026 - val_binary_accuracy: 0.9707\n",
      "Epoch 15/50\n",
      "36/36 [==============================] - 0s 2ms/step - loss: 0.0174 - binary_accuracy: 1.0000 - val_loss: 0.1069 - val_binary_accuracy: 0.9733\n",
      "Epoch 16/50\n",
      "36/36 [==============================] - 0s 2ms/step - loss: 0.0145 - binary_accuracy: 1.0000 - val_loss: 0.1220 - val_binary_accuracy: 0.9627\n",
      "Epoch 17/50\n",
      "36/36 [==============================] - 0s 2ms/step - loss: 0.0123 - binary_accuracy: 1.0000 - val_loss: 0.1039 - val_binary_accuracy: 0.9733\n",
      "Epoch 18/50\n",
      "36/36 [==============================] - 0s 2ms/step - loss: 0.0107 - binary_accuracy: 1.0000 - val_loss: 0.1048 - val_binary_accuracy: 0.9760\n",
      "Epoch 19/50\n",
      "36/36 [==============================] - 0s 2ms/step - loss: 0.0099 - binary_accuracy: 1.0000 - val_loss: 0.0980 - val_binary_accuracy: 0.9760\n",
      "Epoch 20/50\n",
      "36/36 [==============================] - 0s 2ms/step - loss: 0.0080 - binary_accuracy: 1.0000 - val_loss: 0.1019 - val_binary_accuracy: 0.9760\n",
      "Epoch 21/50\n",
      "36/36 [==============================] - 0s 2ms/step - loss: 0.0068 - binary_accuracy: 1.0000 - val_loss: 0.1017 - val_binary_accuracy: 0.9760\n",
      "Epoch 22/50\n",
      "36/36 [==============================] - 0s 2ms/step - loss: 0.0061 - binary_accuracy: 1.0000 - val_loss: 0.1038 - val_binary_accuracy: 0.9760\n",
      "Epoch 23/50\n",
      "36/36 [==============================] - 0s 2ms/step - loss: 0.0053 - binary_accuracy: 1.0000 - val_loss: 0.1035 - val_binary_accuracy: 0.9760\n",
      "Epoch 24/50\n",
      "36/36 [==============================] - 0s 2ms/step - loss: 0.0048 - binary_accuracy: 1.0000 - val_loss: 0.1085 - val_binary_accuracy: 0.9760\n",
      "Epoch 25/50\n",
      "36/36 [==============================] - 0s 2ms/step - loss: 0.0045 - binary_accuracy: 1.0000 - val_loss: 0.1089 - val_binary_accuracy: 0.9760\n",
      "Epoch 26/50\n",
      "36/36 [==============================] - 0s 2ms/step - loss: 0.0042 - binary_accuracy: 1.0000 - val_loss: 0.1023 - val_binary_accuracy: 0.9760\n",
      "Epoch 27/50\n",
      "36/36 [==============================] - 0s 2ms/step - loss: 0.0035 - binary_accuracy: 1.0000 - val_loss: 0.1066 - val_binary_accuracy: 0.9760\n",
      "Epoch 28/50\n",
      "36/36 [==============================] - 0s 2ms/step - loss: 0.0032 - binary_accuracy: 1.0000 - val_loss: 0.1018 - val_binary_accuracy: 0.9760\n",
      "Epoch 29/50\n",
      "36/36 [==============================] - 0s 2ms/step - loss: 0.0030 - binary_accuracy: 1.0000 - val_loss: 0.1031 - val_binary_accuracy: 0.9760\n",
      "Epoch 30/50\n",
      "36/36 [==============================] - 0s 2ms/step - loss: 0.0026 - binary_accuracy: 1.0000 - val_loss: 0.1003 - val_binary_accuracy: 0.9760\n",
      "Epoch 31/50\n",
      "36/36 [==============================] - 0s 2ms/step - loss: 0.0024 - binary_accuracy: 1.0000 - val_loss: 0.1121 - val_binary_accuracy: 0.9760\n",
      "Epoch 32/50\n",
      "36/36 [==============================] - 0s 2ms/step - loss: 0.0023 - binary_accuracy: 1.0000 - val_loss: 0.1071 - val_binary_accuracy: 0.9760\n",
      "Epoch 33/50\n",
      "36/36 [==============================] - 0s 2ms/step - loss: 0.0021 - binary_accuracy: 1.0000 - val_loss: 0.1092 - val_binary_accuracy: 0.9760\n",
      "Epoch 34/50\n",
      "36/36 [==============================] - 0s 2ms/step - loss: 0.0020 - binary_accuracy: 1.0000 - val_loss: 0.0998 - val_binary_accuracy: 0.9787\n",
      "Epoch 35/50\n",
      "36/36 [==============================] - 0s 2ms/step - loss: 0.0019 - binary_accuracy: 1.0000 - val_loss: 0.1104 - val_binary_accuracy: 0.9760\n",
      "Epoch 36/50\n",
      "36/36 [==============================] - 0s 2ms/step - loss: 0.0017 - binary_accuracy: 1.0000 - val_loss: 0.1023 - val_binary_accuracy: 0.9760\n",
      "Epoch 37/50\n",
      "36/36 [==============================] - 0s 2ms/step - loss: 0.0016 - binary_accuracy: 1.0000 - val_loss: 0.1094 - val_binary_accuracy: 0.9760\n",
      "Epoch 38/50\n",
      "36/36 [==============================] - 0s 2ms/step - loss: 0.0015 - binary_accuracy: 1.0000 - val_loss: 0.1096 - val_binary_accuracy: 0.9760\n",
      "Epoch 39/50\n",
      "36/36 [==============================] - 0s 2ms/step - loss: 0.0014 - binary_accuracy: 1.0000 - val_loss: 0.1123 - val_binary_accuracy: 0.9760\n",
      "Epoch 40/50\n",
      "36/36 [==============================] - 0s 2ms/step - loss: 0.0013 - binary_accuracy: 1.0000 - val_loss: 0.1078 - val_binary_accuracy: 0.9760\n",
      "Epoch 41/50\n",
      "36/36 [==============================] - 0s 2ms/step - loss: 0.0013 - binary_accuracy: 1.0000 - val_loss: 0.1048 - val_binary_accuracy: 0.9760\n",
      "Epoch 42/50\n",
      "36/36 [==============================] - 0s 2ms/step - loss: 0.0011 - binary_accuracy: 1.0000 - val_loss: 0.1093 - val_binary_accuracy: 0.9760\n",
      "Epoch 43/50\n",
      "36/36 [==============================] - 0s 2ms/step - loss: 0.0011 - binary_accuracy: 1.0000 - val_loss: 0.1114 - val_binary_accuracy: 0.9760\n",
      "Epoch 44/50\n",
      "36/36 [==============================] - 0s 2ms/step - loss: 0.0010 - binary_accuracy: 1.0000 - val_loss: 0.1087 - val_binary_accuracy: 0.9760\n",
      "Epoch 45/50\n",
      "36/36 [==============================] - 0s 2ms/step - loss: 9.5233e-04 - binary_accuracy: 1.0000 - val_loss: 0.1083 - val_binary_accuracy: 0.9760\n",
      "Epoch 46/50\n",
      "36/36 [==============================] - 0s 2ms/step - loss: 8.9978e-04 - binary_accuracy: 1.0000 - val_loss: 0.1077 - val_binary_accuracy: 0.9760\n",
      "Epoch 47/50\n",
      "36/36 [==============================] - 0s 2ms/step - loss: 8.6946e-04 - binary_accuracy: 1.0000 - val_loss: 0.1120 - val_binary_accuracy: 0.9760\n",
      "Epoch 48/50\n",
      "36/36 [==============================] - 0s 2ms/step - loss: 8.1813e-04 - binary_accuracy: 1.0000 - val_loss: 0.1119 - val_binary_accuracy: 0.9760\n",
      "Epoch 49/50\n",
      "36/36 [==============================] - 0s 2ms/step - loss: 8.0237e-04 - binary_accuracy: 1.0000 - val_loss: 0.1137 - val_binary_accuracy: 0.9760\n",
      "Epoch 50/50\n",
      "36/36 [==============================] - 0s 2ms/step - loss: 7.3211e-04 - binary_accuracy: 1.0000 - val_loss: 0.1134 - val_binary_accuracy: 0.9760\n"
     ]
    },
    {
     "data": {
      "image/png": "[encoded data removed]",
      "text/plain": [
       "<Figure size 432x288 with 1 Axes>"
      ]
     },
     "metadata": {
      "needs_background": "light"
     },
     "output_type": "display_data"
    }
   ],
   "source": [
    "# TODO: Use model.fit to train the CNN model, with the number of epochs, verbose type.\n",
    "history = model.fit()\n",
    "\n",
    "plt.figure()\n",
    "plt.plot(history.history['loss'])\n",
    "plt.plot(history.history['val_loss'])\n",
    "plt.title('model loss')\n",
    "plt.ylabel('loss')\n",
    "plt.xlabel('epoch')\n",
    "plt.legend(['train', 'validation'])\n",
    "plt.show()"
   ]
  },
  {
   "cell_type": "markdown",
   "metadata": {
    "colab_type": "text",
    "id": "P5eKDmX8ODBE"
   },
   "source": [
    "Similarly, we can plot the accuracy of our neural network on the binary classification task. The metric used in this example is the _binary accuracy_, which calculates the proportion of predictions that match labels or response variables. Other metrics may be used in different tasks -- for example, the _mean squared error_ is typically used to measure the accuracy for continuous response variables (e.g. polygenic risk scores, total serum cholesterol level, height, weight and systolic blood pressure)."
   ]
  },
  {
   "cell_type": "code",
   "execution_count": 7,
   "metadata": {
    "colab": {
     "base_uri": "https://localhost:8080/",
     "height": 376
    },
    "colab_type": "code",
    "id": "J2Jdpa1i8zqM",
    "outputId": "a1bfe431-0bd4-4c51-d283-dbe6fefd13f7"
   },
   "outputs": [
    {
     "data": {
      "image/png": "[encoded data removed]",
      "text/plain": [
       "<Figure size 432x288 with 1 Axes>"
      ]
     },
     "metadata": {
      "needs_background": "light"
     },
     "output_type": "display_data"
    }
   ],
   "source": [
    "plt.figure()\n",
    "plt.plot(history.history['binary_accuracy'])\n",
    "plt.plot(history.history['val_binary_accuracy'])\n",
    "plt.title('model accuracy')\n",
    "plt.ylabel('accuracy')\n",
    "plt.xlabel('epoch')\n",
    "plt.legend(['train', 'validation'])\n",
    "plt.show()"
   ]
  },
  {
   "cell_type": "markdown",
   "metadata": {
    "colab_type": "text",
    "id": "6Xy7VhhZg-hN"
   },
   "source": [
    "## 3. Evaluate"
   ]
  },
  {
   "cell_type": "markdown",
   "metadata": {
    "colab_type": "text",
    "id": "btf7FyMVsnFA"
   },
   "source": [
    "![alt text](https://github.com/abidlabs/deep-learning-genomics-primer/blob/master/Screenshot%20from%202018-08-01%2020-32-12.png?raw=true)"
   ]
  },
  {
   "cell_type": "markdown",
   "metadata": {
    "colab_type": "text",
    "id": "eQ_xYCvfvFlE"
   },
   "source": [
    "The best way to evaluate whether the network has learned to classify sequences is to evaluate its performance on a fresh test set consisting of data that it has not observed at all during training. \n",
    "\n",
    "With the model trained, we can use it to make predictions. The predict function call generates the output predictions given a set of input samples."
   ]
  },
  {
   "cell_type": "code",
   "execution_count": 1,
   "metadata": {
    "scrolled": false
   },
   "outputs": [
    {
     "ename": "NameError",
     "evalue": "name 'model' is not defined",
     "output_type": "error",
     "traceback": [
      "\u001b[1;31m---------------------------------------------------------------------------\u001b[0m",
      "\u001b[1;31mNameError\u001b[0m                                 Traceback (most recent call last)",
      "\u001b[1;32m<ipython-input-1-237b5f4a45cd>\u001b[0m in \u001b[0;36m<module>\u001b[1;34m\u001b[0m\n\u001b[0;32m      3\u001b[0m \u001b[1;33m\u001b[0m\u001b[0m\n\u001b[0;32m      4\u001b[0m \u001b[1;31m# TODO: Use model.predict to train the CNN model, with the number of epochs, verbose type.\u001b[0m\u001b[1;33m\u001b[0m\u001b[1;33m\u001b[0m\u001b[1;33m\u001b[0m\u001b[0m\n\u001b[1;32m----> 5\u001b[1;33m \u001b[0mpredicted_labels\u001b[0m \u001b[1;33m=\u001b[0m \u001b[0mmodel\u001b[0m\u001b[1;33m.\u001b[0m\u001b[0mpredict\u001b[0m\u001b[1;33m(\u001b[0m\u001b[1;33m)\u001b[0m\u001b[1;33m\u001b[0m\u001b[1;33m\u001b[0m\u001b[0m\n\u001b[0m",
      "\u001b[1;31mNameError\u001b[0m: name 'model' is not defined"
     ]
    }
   ],
   "source": [
    "from sklearn.metrics import confusion_matrix\n",
    "import itertools\n",
    "\n",
    "# TODO: Use model.predict to train the CNN model, with the number of epochs, verbose type.\n",
    "predicted_labels = model.predict()\n"
   ]
  },
  {
   "cell_type": "markdown",
   "metadata": {},
   "source": [
    "Here, we evaluate the model on the test set and plot the results as a confusion matrix. Nearly every test sequence should be correctly classified.\n"
   ]
  },
  {
   "cell_type": "code",
   "execution_count": 11,
   "metadata": {
    "colab": {
     "base_uri": "https://localhost:8080/",
     "height": 478
    },
    "colab_type": "code",
    "id": "J1bvxV9J-EMT",
    "outputId": "43bd6cbf-671f-4701-b8b2-569a3871d394",
    "scrolled": false
   },
   "outputs": [
    {
     "name": "stdout",
     "output_type": "stream",
     "text": [
      "Confusion matrix:\n",
      " [[248  11]\n",
      " [  0 241]]\n"
     ]
    },
    {
     "data": {
      "image/png": "[encoded data removed]",
      "text/plain": [
       "<Figure size 432x288 with 2 Axes>"
      ]
     },
     "metadata": {
      "needs_background": "light"
     },
     "output_type": "display_data"
    }
   ],
   "source": [
    "\n",
    "cm = confusion_matrix(np.argmax(test_labels, axis=1), \n",
    "                      np.argmax(predicted_labels, axis=1))\n",
    "\n",
    "print('Confusion matrix:\\n',cm)\n",
    "\n",
    "cm = cm.astype('float') / cm.sum(axis = 1)[:, np.newaxis]\n",
    "\n",
    "plt.imshow(cm, cmap=plt.cm.Blues)\n",
    "plt.title('Normalized confusion matrix')\n",
    "plt.colorbar()\n",
    "plt.xlabel('True label')\n",
    "plt.ylabel('Predicted label')\n",
    "plt.xticks([0, 1]); plt.yticks([0, 1])\n",
    "plt.grid('off')\n",
    "for i, j in itertools.product(range(cm.shape[0]), range(cm.shape[1])):\n",
    "    plt.text(j, i, format(cm[i, j], '.2f'),\n",
    "             horizontalalignment='center',\n",
    "             color='white' if cm[i, j] > 0.5 else 'black')"
   ]
  },
  {
   "cell_type": "markdown",
   "metadata": {
    "colab_type": "text",
    "id": "UBdJQC1Ug__3"
   },
   "source": [
    "## 4. Interpret"
   ]
  },
  {
   "cell_type": "markdown",
   "metadata": {
    "colab_type": "text",
    "id": "6qmKi1ResqHo"
   },
   "source": [
    "![alt text](https://github.com/abidlabs/deep-learning-genomics-primer/blob/master/Screenshot%20from%202018-08-01%2020-32-31.png?raw=true)"
   ]
  },
  {
   "cell_type": "markdown",
   "metadata": {
    "colab_type": "text",
    "id": "UpAwoK9SwAbb"
   },
   "source": [
    "Your results so far should allow you to conclude that the neural network is quite effective in learning to distinguish sequences that bind the protein from sequences that do not. But can we understand _why_ the neural network classifies a training point in the way that it does? To do so, we can compute a simple _saliency map_, which is the gradient of the model's prediction with respect to each individual nucleotide. \n",
    "\n",
    "In other words, the saliency maps shows how the output response value changes with respect to a small changes in input nucleotide sequence. All the positive values in the gradients tell us that a small change to that nucleotide will change the output value. Hence, visualizing these gradients for a given input sequence, should provide some clues about what nucleotides form the binding motive that we are trying to identify."
   ]
  },
  {
   "cell_type": "code",
   "execution_count": 12,
   "metadata": {
    "colab": {},
    "colab_type": "code",
    "id": "WNT_Au-dAP8a"
   },
   "outputs": [],
   "source": [
    "import tensorflow.keras.backend as K\n",
    "\n",
    "def compute_salient_bases(model, x):\n",
    "  input_tensors = [model.input]\n",
    "  gradients = model.optimizer.get_gradients(model.output[0][1], model.input)\n",
    "  compute_gradients = K.function(inputs = input_tensors, outputs = gradients)\n",
    "  \n",
    "  x_value = np.expand_dims(x, axis=0)\n",
    "  gradients = compute_gradients([x_value])[0][0]\n",
    "  sal = np.clip(np.sum(np.multiply(gradients,x), axis=1),a_min=0, a_max=None)\n",
    "  return sal"
   ]
  },
  {
   "cell_type": "code",
   "execution_count": 13,
   "metadata": {
    "colab": {
     "base_uri": "https://localhost:8080/",
     "height": 349
    },
    "colab_type": "code",
    "id": "uObq5iC4BG1g",
    "outputId": "147a7cdf-375f-4832-8b4e-e3450dcf2115",
    "scrolled": false
   },
   "outputs": [
    {
     "data": {
      "image/png": "[encoded data removed]",
      "text/plain": [
       "<Figure size 1152x360 with 1 Axes>"
      ]
     },
     "metadata": {
      "needs_background": "light"
     },
     "output_type": "display_data"
    }
   ],
   "source": [
    "sequence_index = 1999  # You can change this to compute the gradient for a different example. But if so, change the coloring below as well.\n",
    "sal = compute_salient_bases(model, input_features[sequence_index])\n",
    "\n",
    "plt.figure(figsize=[16,5])\n",
    "barlist = plt.bar(np.arange(len(sal)), sal)\n",
    "[barlist[i].set_color('C1') for i in range(5,17)]  # Change the coloring here if you change the sequence index.\n",
    "plt.xlabel('Bases')\n",
    "plt.ylabel('Magnitude of saliency values')\n",
    "plt.xticks(np.arange(len(sal)), list(sequences[sequence_index]));\n",
    "plt.title('Saliency map for bases in one of the positive sequences'\n",
    "          ' (orange indicates the actual bases in motif)');"
   ]
  },
  {
   "cell_type": "markdown",
   "metadata": {
    "colab_type": "text",
    "id": "voPIrz9TPtIH"
   },
   "source": [
    "The results above should show high saliency values for the bases _CGACCGAACTCC_ appearing in the DNA sequence. If you recall from the top of the document, this is exactly the motif that we embedded in the positive sequences! The raw saliency values may be non-zero for other bases as well -- the gradient-based saliency map method is not perfect, and there other more complex interpretation methods that are used in practice to obtain better results.  \n",
    "\n",
    "Furthermore, we may explore other architectures for our neural network to see if we can improve performance on the validation dataset. For example, we could choose different _hyper-parameters_, which are variables that define the network structure (e.g. the number of dense or convolutional layers, the dimensionality of each layer, etc.) and variables that determine how the network is trained (e.g. the number of epochs, the learning rate, etc.). Testing different hyper-parameter values or performing a hyper-parameter search grid are good practices that may help the deep learning procedure to obtain a clearer signal for classifying sequences and identifying the binding motif."
   ]
  }
 ],
 "metadata": {
  "accelerator": "GPU",
  "colab": {
   "collapsed_sections": [],
   "name": "A Primer on Deep Learning in Genomics - Public.ipynb",
   "provenance": []
  },
  "kernelspec": {
   "display_name": "Python [conda env:dl] *",
   "language": "python",
   "name": "conda-env-dl-py"
  },
  "language_info": {
   "codemirror_mode": {
    "name": "ipython",
    "version": 3
   },
   "file_extension": ".py",
   "mimetype": "text/x-python",
   "name": "python",
   "nbconvert_exporter": "python",
   "pygments_lexer": "ipython3",
   "version": "3.7.9"
  }
 },
 "nbformat": 4,
 "nbformat_minor": 1
}
